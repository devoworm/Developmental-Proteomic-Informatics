{
 "cells": [
  {
   "cell_type": "code",
   "execution_count": 2,
   "id": "5ee8e9eb-7e23-4644-aad6-f57965a847d9",
   "metadata": {},
   "outputs": [],
   "source": [
    "import requests"
   ]
  },
  {
   "cell_type": "code",
   "execution_count": 10,
   "id": "d56a3a9b-f766-4907-913e-98a082cb0915",
   "metadata": {},
   "outputs": [
    {
     "name": "stdout",
     "output_type": "stream",
     "text": [
      "Defaulting to user installation because normal site-packages is not writeable\n",
      "Collecting biopython\n",
      "  Downloading biopython-1.84-cp310-cp310-manylinux_2_17_x86_64.manylinux2014_x86_64.whl (3.2 MB)\n",
      "\u001b[2K     \u001b[38;2;114;156;31m━━━━━━━━━━━━━━━━━━━━━━━━━━━━━━━━━━━━━━━━\u001b[0m \u001b[32m3.2/3.2 MB\u001b[0m \u001b[31m11.7 MB/s\u001b[0m eta \u001b[36m0:00:00\u001b[0m MB/s\u001b[0m eta \u001b[36m0:00:01\u001b[0m01\u001b[0m\n",
      "\u001b[?25hRequirement already satisfied: numpy in /home/noob/.local/lib/python3.10/site-packages (from biopython) (1.26.4)\n",
      "Installing collected packages: biopython\n",
      "Successfully installed biopython-1.84\n",
      "Note: you may need to restart the kernel to use updated packages.\n"
     ]
    }
   ],
   "source": [
    "pip install biopython"
   ]
  },
  {
   "cell_type": "code",
   "execution_count": 11,
   "id": "619bab53-213c-4eec-9198-fc036a0a0b42",
   "metadata": {},
   "outputs": [
    {
     "name": "stdout",
     "output_type": "stream",
     "text": [
      "Defaulting to user installation because normal site-packages is not writeable\n",
      "\u001b[31mERROR: Invalid requirement: '–-upgrade'\u001b[0m\u001b[31m\n",
      "\u001b[0mNote: you may need to restart the kernel to use updated packages.\n"
     ]
    }
   ],
   "source": [
    "pip install biopython –-upgrade"
   ]
  },
  {
   "cell_type": "code",
   "execution_count": 3,
   "id": "3eb69de2-3c32-4a3e-a776-536be16f5fd8",
   "metadata": {},
   "outputs": [],
   "source": [
    "from Bio.Blast import NCBIWWW"
   ]
  },
  {
   "cell_type": "code",
   "execution_count": 3,
   "id": "5f8f6ad4-dad4-4718-89a4-765551fb30af",
   "metadata": {},
   "outputs": [
    {
     "name": "stdout",
     "output_type": "stream",
     "text": [
      "Help on function qblast in module Bio.Blast.NCBIWWW:\n",
      "\n",
      "qblast(program, database, sequence, url_base='https://blast.ncbi.nlm.nih.gov/Blast.cgi', auto_format=None, composition_based_statistics=None, db_genetic_code=None, endpoints=None, entrez_query='(none)', expect=10.0, filter=None, gapcosts=None, genetic_code=None, hitlist_size=50, i_thresh=None, layout=None, lcase_mask=None, matrix_name=None, nucl_penalty=None, nucl_reward=None, other_advanced=None, perc_ident=None, phi_pattern=None, query_file=None, query_believe_defline=None, query_from=None, query_to=None, searchsp_eff=None, service=None, threshold=None, ungapped_alignment=None, word_size=None, short_query=None, alignments=500, alignment_view=None, descriptions=500, entrez_links_new_window=None, expect_low=None, expect_high=None, format_entrez_query=None, format_object=None, format_type='XML', ncbi_gi=None, results_file=None, show_overview=None, megablast=None, template_type=None, template_length=None, username='blast', password=None)\n",
      "    BLAST search using NCBI's QBLAST server or a cloud service provider.\n",
      "    \n",
      "    Supports all parameters of the old qblast API for Put and Get.\n",
      "    \n",
      "    Please note that NCBI uses the new Common URL API for BLAST searches\n",
      "    on the internet (http://ncbi.github.io/blast-cloud/dev/api.html). Thus,\n",
      "    some of the parameters used by this function are not (or are no longer)\n",
      "    officially supported by NCBI. Although they are still functioning, this\n",
      "    may change in the future.\n",
      "    \n",
      "    The Common URL API (http://ncbi.github.io/blast-cloud/dev/api.html) allows\n",
      "    doing BLAST searches on cloud servers. To use this feature, please set\n",
      "    ``url_base='http://host.my.cloud.service.provider.com/cgi-bin/blast.cgi'``\n",
      "    and ``format_object='Alignment'``. For more details, please see\n",
      "    https://blast.ncbi.nlm.nih.gov/Blast.cgi?PAGE_TYPE=BlastDocs&DOC_TYPE=CloudBlast\n",
      "    \n",
      "    Some useful parameters:\n",
      "    \n",
      "     - program        blastn, blastp, blastx, tblastn, or tblastx (lower case)\n",
      "     - database       Which database to search against (e.g. \"nr\").\n",
      "     - sequence       The sequence to search.\n",
      "     - ncbi_gi        TRUE/FALSE whether to give 'gi' identifier.\n",
      "     - descriptions   Number of descriptions to show.  Def 500.\n",
      "     - alignments     Number of alignments to show.  Def 500.\n",
      "     - expect         An expect value cutoff.  Def 10.0.\n",
      "     - matrix_name    Specify an alt. matrix (PAM30, PAM70, BLOSUM80, BLOSUM45).\n",
      "     - filter         \"none\" turns off filtering.  Default no filtering\n",
      "     - format_type    \"HTML\", \"Text\", \"ASN.1\", or \"XML\".  Def. \"XML\".\n",
      "     - entrez_query   Entrez query to limit Blast search\n",
      "     - hitlist_size   Number of hits to return. Default 50\n",
      "     - megablast      TRUE/FALSE whether to use MEga BLAST algorithm (blastn only)\n",
      "     - short_query    TRUE/FALSE whether to adjust the search parameters for a\n",
      "                      short query sequence. Note that this will override\n",
      "                      manually set parameters like word size and e value. Turns\n",
      "                      off when sequence length is > 30 residues. Default: None.\n",
      "     - service        plain, psi, phi, rpsblast, megablast (lower case)\n",
      "    \n",
      "    This function does no checking of the validity of the parameters\n",
      "    and passes the values to the server as is.  More help is available at:\n",
      "    https://ncbi.github.io/blast-cloud/dev/api.html\n",
      "\n"
     ]
    }
   ],
   "source": [
    "help(NCBIWWW.qblast)"
   ]
  },
  {
   "cell_type": "code",
   "execution_count": 4,
   "id": "359ae146-58a6-4c4f-b6f0-b6d0593f9bd9",
   "metadata": {},
   "outputs": [],
   "source": [
    "from Bio.Blast import NCBIWWW"
   ]
  },
  {
   "cell_type": "code",
   "execution_count": 5,
   "id": "ee96ec7c-0519-41b1-8ae5-270f3861a78f",
   "metadata": {},
   "outputs": [],
   "source": [
    "from Bio import SeqIO "
   ]
  },
  {
   "cell_type": "code",
   "execution_count": 6,
   "id": "eb5252d2-b0ae-4a23-9f12-18bb791d0ce9",
   "metadata": {},
   "outputs": [],
   "source": [
    "from Bio import Blast"
   ]
  },
  {
   "cell_type": "code",
   "execution_count": 17,
   "id": "e7407480-540f-49a8-a4da-912d19f2cb50",
   "metadata": {},
   "outputs": [],
   "source": [
    "result_stream = Blast.qblast(\"blastp\", \"nr\", \"5LI1_B\" , format_type=\"JSON2\")"
   ]
  },
  {
   "cell_type": "code",
   "execution_count": 18,
   "id": "2ec2f710-43c6-499e-aac3-9585c3cce954",
   "metadata": {},
   "outputs": [],
   "source": [
    "data = result_stream.read()"
   ]
  },
  {
   "cell_type": "code",
   "execution_count": 19,
   "id": "50f37dbd-3c83-4f8c-aa22-3b8711d72976",
   "metadata": {},
   "outputs": [
    {
     "data": {
      "text/plain": [
       "b'PK\\x03\\x04'"
      ]
     },
     "execution_count": 19,
     "metadata": {},
     "output_type": "execute_result"
    }
   ],
   "source": [
    "data[:4]"
   ]
  },
  {
   "cell_type": "code",
   "execution_count": 20,
   "id": "2b926101-51b3-47ce-86d4-c2d0b8c4531b",
   "metadata": {},
   "outputs": [],
   "source": [
    "with open(\"myzipfile.zip\", \"wb\") as out_stream:\n",
    "    out_stream.write(data)"
   ]
  },
  {
   "cell_type": "code",
   "execution_count": 21,
   "id": "061813da-d351-4191-b7c8-4b246a0c9d36",
   "metadata": {},
   "outputs": [],
   "source": [
    "import zipfile"
   ]
  },
  {
   "cell_type": "code",
   "execution_count": 22,
   "id": "de74ca80-6c02-4a4c-8ec8-71f41040f0f1",
   "metadata": {},
   "outputs": [],
   "source": [
    "myzipfile = zipfile.ZipFile(\"myzipfile.zip\")"
   ]
  },
  {
   "cell_type": "code",
   "execution_count": 23,
   "id": "837527f9-60ad-4636-9746-cabc1296f0a3",
   "metadata": {},
   "outputs": [
    {
     "data": {
      "text/plain": [
       "['B4RFAC58016.json', 'B4RFAC58016_1.json']"
      ]
     },
     "execution_count": 23,
     "metadata": {},
     "output_type": "execute_result"
    }
   ],
   "source": [
    "myzipfile.namelist()"
   ]
  },
  {
   "cell_type": "code",
   "execution_count": 10,
   "id": "3b39b9d8-2daf-4211-8fcf-d0f58bced55e",
   "metadata": {},
   "outputs": [],
   "source": [
    "stream = myzipfile.open(\"B1P2E58B013.json\")"
   ]
  },
  {
   "cell_type": "code",
   "execution_count": 11,
   "id": "fe3d643f-115b-4bab-b17b-a8daf84588eb",
   "metadata": {},
   "outputs": [],
   "source": [
    "data = stream.read()"
   ]
  },
  {
   "cell_type": "code",
   "execution_count": 12,
   "id": "fbffda94-2b16-402e-87c3-3edf368bbaf7",
   "metadata": {},
   "outputs": [],
   "source": [
    "data = data.decode()"
   ]
  },
  {
   "cell_type": "code",
   "execution_count": 13,
   "id": "424d4212-a28f-4e14-b6c7-33686fc3704b",
   "metadata": {},
   "outputs": [
    {
     "name": "stdout",
     "output_type": "stream",
     "text": [
      "{\n",
      "\t\"BlastJSON\": [\n",
      "\t\t{\"File\": \"B1P2E58B013_1.json\" }\n",
      "\t]\n",
      "}\n"
     ]
    }
   ],
   "source": [
    "print(data)"
   ]
  },
  {
   "cell_type": "code",
   "execution_count": 14,
   "id": "acfbb7b5-f7dd-453c-848d-dc33bff0f314",
   "metadata": {},
   "outputs": [],
   "source": [
    "stream = myzipfile.open(\"B1P2E58B013_1.json\")"
   ]
  },
  {
   "cell_type": "code",
   "execution_count": 15,
   "id": "b4eba2e8-18de-46cf-872c-43abec49a490",
   "metadata": {},
   "outputs": [],
   "source": [
    "data = stream.read()"
   ]
  },
  {
   "cell_type": "code",
   "execution_count": 16,
   "id": "c3c3f19d-c6ac-4c9f-808a-21861bee1a7c",
   "metadata": {},
   "outputs": [
    {
     "data": {
      "text/plain": [
       "55366"
      ]
     },
     "execution_count": 16,
     "metadata": {},
     "output_type": "execute_result"
    }
   ],
   "source": [
    "len(data)"
   ]
  },
  {
   "cell_type": "code",
   "execution_count": 17,
   "id": "7b899ca6-85d0-484d-b099-a1710775698f",
   "metadata": {},
   "outputs": [],
   "source": [
    "data = data.decode()"
   ]
  },
  {
   "cell_type": "code",
   "execution_count": 18,
   "id": "9b0396be-6065-4d02-911f-b670fcf81bef",
   "metadata": {},
   "outputs": [
    {
     "name": "stdout",
     "output_type": "stream",
     "text": [
      "{\n",
      "  \"BlastOutput2\": {\n",
      "    \"report\": {\n",
      "      \"program\": \"blastp\",\n",
      "      \"version\": \"BLASTP 2.16.0+\",\n",
      "      \"reference\": \"Stephen F. Altschul, Thomas L. Madden, Alejandro A. Sch&auml;ffer, Jinghui Zhang, Zheng Zhang, Webb Miller, and David J. Lipman (1997), \\\"Gapped BLAST and PSI-BLAST: a new generation of protein database search programs\\\", Nucleic Acids Res. 25:3389-3402.\",\n",
      "      \"search_target\": {\n",
      "        \"db\": \"nr\"\n",
      "      },\n",
      "      \"params\": {\n",
      "        \"matrix\": \"BLOSUM62\",\n",
      "        \"expect\": 10,\n",
      "        \"gap_open\": 11,\n",
      "        \"gap_extend\": 1,\n",
      "        \"filter\": \"F\",\n",
      "        \"cbs\": 2\n",
      "      },\n",
      "      \"results\": {\n",
      "        \"search\": {\n",
      "          \"query_id\": \"5LI1_B\",\n",
      "          \"query_title\": \"Chain B, Par-3 partitioning defective 3 homolog (C. elegans) [Xenopus tropicalis]\",\n",
      "          \"query_len\": 20,\n",
      "          \"hits\": [\n",
      "            {\n",
      "              \"num\": 1,\n",
      "              \"description\": [\n",
      "                {\n",
      "                  \"id\": \"gb|MEQ2268300.1|\",\n",
      "                  \"accession\": \"MEQ2268300\",\n",
      "                  \"title\": \"Partitioning defective 3 [Xenotaenia resolanae]\",\n",
      "                  \"taxid\": 208358,\n",
      "                  \"sciname\": \"Xenotaenia resolanae\"\n",
      "                }\n",
      "              ],\n",
      "              \"len\": 104,\n",
      "              \"hsps\": [\n",
      "                {\n",
      "                  \"num\": 1,\n",
      "                  \"bit_score\": 44.2838,\n",
      "                  \"score\": 103,\n",
      "                  \"evalue\": 0.000492086,\n",
      "                  \"identity\": 20,\n",
      "                  \"positive\": 20,\n",
      "                  \"query_from\": 1,\n",
      "                  \"query_to\": 20,\n",
      "                  \"hit_from\": 64,\n",
      "                  \"hit_to\": 83,\n",
      "                  \"align_len\": 20,\n",
      "                  \"gaps\": 0,\n",
      "                  \"qseq\": \"LAFQREGFGRQSMSEKRTKQ\",\n",
      "                  \"hseq\": \"LAFQREGFGRQSMSEKRTKQ\",\n",
      "                  \"midline\": \"LAFQREGFGRQSMSEKRTKQ\"\n",
      "                }\n",
      "              ]\n",
      "            },\n",
      "            {\n",
      "              \"num\": 2,\n",
      "              \"description\": [\n",
      "                {\n",
      "                  \"id\": \"pdb|4DC2|Z\",\n",
      "                  \"accession\": \"4DC2_Z\",\n",
      "                  \"title\": \"Chain Z, Partitioning defective 3 homolog [Rattus norvegicus]\",\n",
      "                  \"taxid\": 10116,\n",
      "                  \"sciname\": \"Rattus norvegicus\"\n",
      "                }\n",
      "              ],\n",
      "              \"len\": 28,\n",
      "              \"hsps\": [\n",
      "                {\n",
      "                  \"num\": 1,\n",
      "                  \"bit_score\": 42.3578,\n",
      "                  \"score\": 98,\n",
      "                  \"evalue\": 0.000630094,\n",
      "                  \"identity\": 20,\n",
      "                  \"positive\": 20,\n",
      "                  \"query_from\": 1,\n",
      "                  \"query_to\": 20,\n",
      "                  \"hit_from\": 4,\n",
      "                  \"hit_to\": 23,\n",
      "                  \"align_len\": 20,\n",
      "                  \"gaps\": 0,\n",
      "                  \"qseq\": \"LAFQREGFGRQSMSEKRTKQ\",\n",
      "                  \"hseq\": \"LAFQREGFGRQSMSEKRTKQ\",\n",
      "                  \"midline\": \"LAFQREGFGRQSMSEKRTKQ\"\n",
      "                }\n",
      "              ]\n",
      "            },\n",
      "            {\n",
      "              \"num\": 3,\n",
      "              \"description\": [\n",
      "                {\n",
      "                  \"id\": \"gb|MED6256465.1|\",\n",
      "                  \"accession\": \"MED6256465\",\n",
      "                  \"title\": \"Partitioning defective 3 [Ataeniobius toweri]\",\n",
      "                  \"taxid\": 208326,\n",
      "                  \"sciname\": \"Ataeniobius toweri\"\n",
      "                }\n",
      "              ],\n",
      "              \"len\": 126,\n",
      "              \"hsps\": [\n",
      "                {\n",
      "                  \"num\": 1,\n",
      "                  \"bit_score\": 43.8986,\n",
      "                  \"score\": 102,\n",
      "                  \"evalue\": 0.000941219,\n",
      "                  \"identity\": 20,\n",
      "                  \"positive\": 20,\n",
      "                  \"query_from\": 1,\n",
      "                  \"query_to\": 20,\n",
      "                  \"hit_from\": 64,\n",
      "                  \"hit_to\": 83,\n",
      "                  \"align_len\": 20,\n",
      "                  \"gaps\": 0,\n",
      "                  \"qseq\": \"LAFQREGFGRQSMSEKRTKQ\",\n",
      "                  \"hseq\": \"LAFQREGFGRQSMSEKRTKQ\",\n",
      "                  \"midline\": \"LAFQREGFGRQSMSEKRTKQ\"\n",
      "                }\n",
      "              ]\n",
      "            },\n",
      "            {\n",
      "              \"num\": 4,\n",
      "              \"description\": [\n",
      "                {\n",
      "                  \"id\": \"pdb|5LI1|B\",\n",
      "                  \"accession\": \"5LI1_B\",\n",
      "                  \"title\": \"Chain B, Par-3 partitioning defective 3 homolog (C. elegans) [Xenopus tropicalis]\",\n",
      "                  \"taxid\": 8364,\n",
      "                  \"sciname\": \"Xenopus tropicalis\"\n",
      "                }\n",
      "              ],\n",
      "              \"len\": 20,\n",
      "              \"hsps\": [\n",
      "                {\n",
      "                  \"num\": 1,\n",
      "                  \"bit_score\": 41.5874,\n",
      "                  \"score\": 96,\n",
      "                  \"evalue\": 0.00105272,\n",
      "                  \"identity\": 20,\n",
      "                  \"positive\": 20,\n",
      "                  \"query_from\": 1,\n",
      "                  \"query_to\": 20,\n",
      "                  \"hit_from\": 1,\n",
      "                  \"hit_to\": 20,\n",
      "                  \"align_len\": 20,\n",
      "                  \"gaps\": 0,\n",
      "                  \"qseq\": \"LAFQREGFGRQSMSEKRTKQ\",\n",
      "                  \"hseq\": \"LAFQREGFGRQSMSEKRTKQ\",\n",
      "                  \"midline\": \"LAFQREGFGRQSMSEKRTKQ\"\n",
      "                }\n",
      "              ]\n",
      "            },\n",
      "            {\n",
      "              \"num\": 5,\n",
      "              \"description\": [\n",
      "                {\n",
      "                  \"id\": \"ref|XP_050998621.1|\",\n",
      "                  \"accession\": \"XP_050998621\",\n",
      "                  \"title\": \"partitioning defective 3 homolog, partial [Acomys russatus]\",\n",
      "                  \"taxid\": 60746,\n",
      "                  \"sciname\": \"Acomys russatus\"\n",
      "                }\n",
      "              ],\n",
      "              \"len\": 157,\n",
      "              \"hsps\": [\n",
      "                {\n",
      "                  \"num\": 1,\n",
      "                  \"bit_score\": 44.2838,\n",
      "                  \"score\": 103,\n",
      "                  \"evalue\": 0.00108986,\n",
      "                  \"identity\": 20,\n",
      "                  \"positive\": 20,\n",
      "                  \"query_from\": 1,\n",
      "                  \"query_to\": 20,\n",
      "                  \"hit_from\": 78,\n",
      "                  \"hit_to\": 97,\n",
      "                  \"align_len\": 20,\n",
      "                  \"gaps\": 0,\n",
      "                  \"qseq\": \"LAFQREGFGRQSMSEKRTKQ\",\n",
      "                  \"hseq\": \"LAFQREGFGRQSMSEKRTKQ\",\n",
      "                  \"midline\": \"LAFQREGFGRQSMSEKRTKQ\"\n",
      "                }\n",
      "              ]\n",
      "            },\n",
      "            {\n",
      "              \"num\": 6,\n",
      "              \"description\": [\n",
      "                {\n",
      "                  \"id\": \"gb|MEQ2231125.1|\",\n",
      "                  \"accession\": \"MEQ2231125\",\n",
      "                  \"title\": \"Partitioning defective 3 [Ilyodon furcidens]\",\n",
      "                  \"taxid\": 33524,\n",
      "                  \"sciname\": \"Ilyodon furcidens\"\n",
      "                }\n",
      "              ],\n",
      "              \"len\": 136,\n",
      "              \"hsps\": [\n",
      "                {\n",
      "                  \"num\": 1,\n",
      "                  \"bit_score\": 43.8986,\n",
      "                  \"score\": 102,\n",
      "                  \"evalue\": 0.00109834,\n",
      "                  \"identity\": 20,\n",
      "                  \"positive\": 20,\n",
      "                  \"query_from\": 1,\n",
      "                  \"query_to\": 20,\n",
      "                  \"hit_from\": 64,\n",
      "                  \"hit_to\": 83,\n",
      "                  \"align_len\": 20,\n",
      "                  \"gaps\": 0,\n",
      "                  \"qseq\": \"LAFQREGFGRQSMSEKRTKQ\",\n",
      "                  \"hseq\": \"LAFQREGFGRQSMSEKRTKQ\",\n",
      "                  \"midline\": \"LAFQREGFGRQSMSEKRTKQ\"\n",
      "                }\n",
      "              ]\n",
      "            },\n",
      "            {\n",
      "              \"num\": 7,\n",
      "              \"description\": [\n",
      "                {\n",
      "                  \"id\": \"gb|MEQ2293750.1|\",\n",
      "                  \"accession\": \"MEQ2293750\",\n",
      "                  \"title\": \"Partitioning defective 3 [Ameca splendens]\",\n",
      "                  \"taxid\": 208324,\n",
      "                  \"sciname\": \"Ameca splendens\"\n",
      "                }\n",
      "              ],\n",
      "              \"len\": 134,\n",
      "              \"hsps\": [\n",
      "                {\n",
      "                  \"num\": 1,\n",
      "                  \"bit_score\": 43.5134,\n",
      "                  \"score\": 101,\n",
      "                  \"evalue\": 0.00118802,\n",
      "                  \"identity\": 20,\n",
      "                  \"positive\": 20,\n",
      "                  \"query_from\": 1,\n",
      "                  \"query_to\": 20,\n",
      "                  \"hit_from\": 64,\n",
      "                  \"hit_to\": 83,\n",
      "                  \"align_len\": 20,\n",
      "                  \"gaps\": 0,\n",
      "                  \"qseq\": \"LAFQREGFGRQSMSEKRTKQ\",\n",
      "                  \"hseq\": \"LAFQREGFGRQSMSEKRTKQ\",\n",
      "                  \"midline\": \"LAFQREGFGRQSMSEKRTKQ\"\n",
      "                }\n",
      "              ]\n",
      "            },\n",
      "            {\n",
      "              \"num\": 8,\n",
      "              \"description\": [\n",
      "                {\n",
      "                  \"id\": \"gb|MEQ2186768.1|\",\n",
      "                  \"accession\": \"MEQ2186768\",\n",
      "                  \"title\": \"Partitioning defective 3 [Goodea atripinnis]\",\n",
      "                  \"taxid\": 208336,\n",
      "                  \"sciname\": \"Goodea atripinnis\"\n",
      "                }\n",
      "              ],\n",
      "              \"len\": 136,\n",
      "              \"hsps\": [\n",
      "                {\n",
      "                  \"num\": 1,\n",
      "                  \"bit_score\": 43.5134,\n",
      "                  \"score\": 101,\n",
      "                  \"evalue\": 0.00126046,\n",
      "                  \"identity\": 20,\n",
      "                  \"positive\": 20,\n",
      "                  \"query_from\": 1,\n",
      "                  \"query_to\": 20,\n",
      "                  \"hit_from\": 64,\n",
      "                  \"hit_to\": 83,\n",
      "                  \"align_len\": 20,\n",
      "                  \"gaps\": 0,\n",
      "                  \"qseq\": \"LAFQREGFGRQSMSEKRTKQ\",\n",
      "                  \"hseq\": \"LAFQREGFGRQSMSEKRTKQ\",\n",
      "                  \"midline\": \"LAFQREGFGRQSMSEKRTKQ\"\n",
      "                }\n",
      "              ]\n",
      "            },\n",
      "            {\n",
      "              \"num\": 9,\n",
      "              \"description\": [\n",
      "                {\n",
      "                  \"id\": \"gb|OXB84621.1|\",\n",
      "                  \"accession\": \"OXB84621\",\n",
      "                  \"title\": \"hypothetical protein H355_001098, partial [Colinus virginianus]\",\n",
      "                  \"taxid\": 9014,\n",
      "                  \"sciname\": \"Colinus virginianus\"\n",
      "                }\n",
      "              ],\n",
      "              \"len\": 143,\n",
      "              \"hsps\": [\n",
      "                {\n",
      "                  \"num\": 1,\n",
      "                  \"bit_score\": 43.5134,\n",
      "                  \"score\": 101,\n",
      "                  \"evalue\": 0.0017227,\n",
      "                  \"identity\": 20,\n",
      "                  \"positive\": 20,\n",
      "                  \"query_from\": 1,\n",
      "                  \"query_to\": 20,\n",
      "                  \"hit_from\": 10,\n",
      "                  \"hit_to\": 29,\n",
      "                  \"align_len\": 20,\n",
      "                  \"gaps\": 0,\n",
      "                  \"qseq\": \"LAFQREGFGRQSMSEKRTKQ\",\n",
      "                  \"hseq\": \"LAFQREGFGRQSMSEKRTKQ\",\n",
      "                  \"midline\": \"LAFQREGFGRQSMSEKRTKQ\"\n",
      "                }\n",
      "              ]\n",
      "            },\n",
      "            {\n",
      "              \"num\": 10,\n",
      "              \"description\": [\n",
      "                {\n",
      "                  \"id\": \"ref|XP_044151498.1|\",\n",
      "                  \"accession\": \"XP_044151498\",\n",
      "                  \"title\": \"LOW QUALITY PROTEIN: partitioning defective 3 homolog [Bufo gargarizans]\",\n",
      "                  \"taxid\": 30331,\n",
      "                  \"sciname\": \"Bufo gargarizans\"\n",
      "                }\n",
      "              ],\n",
      "              \"len\": 1973,\n",
      "              \"hsps\": [\n",
      "                {\n",
      "                  \"num\": 1,\n",
      "                  \"bit_score\": 43.5134,\n",
      "                  \"score\": 101,\n",
      "                  \"evalue\": 0.00263713,\n",
      "                  \"identity\": 20,\n",
      "                  \"positive\": 20,\n",
      "                  \"query_from\": 1,\n",
      "                  \"query_to\": 20,\n",
      "                  \"hit_from\": 811,\n",
      "                  \"hit_to\": 830,\n",
      "                  \"align_len\": 20,\n",
      "                  \"gaps\": 0,\n",
      "                  \"qseq\": \"LAFQREGFGRQSMSEKRTKQ\",\n",
      "                  \"hseq\": \"LAFQREGFGRQSMSEKRTKQ\",\n",
      "                  \"midline\": \"LAFQREGFGRQSMSEKRTKQ\"\n",
      "                },\n",
      "                {\n",
      "                  \"num\": 2,\n",
      "                  \"bit_score\": 43.5134,\n",
      "                  \"score\": 101,\n",
      "                  \"evalue\": 0.00263713,\n",
      "                  \"identity\": 20,\n",
      "                  \"positive\": 20,\n",
      "                  \"query_from\": 1,\n",
      "                  \"query_to\": 20,\n",
      "                  \"hit_from\": 1430,\n",
      "                  \"hit_to\": 1449,\n",
      "                  \"align_len\": 20,\n",
      "                  \"gaps\": 0,\n",
      "                  \"qseq\": \"LAFQREGFGRQSMSEKRTKQ\",\n",
      "                  \"hseq\": \"LAFQREGFGRQSMSEKRTKQ\",\n",
      "                  \"midline\": \"LAFQREGFGRQSMSEKRTKQ\"\n",
      "                }\n",
      "              ]\n",
      "            },\n",
      "            {\n",
      "              \"num\": 11,\n",
      "              \"description\": [\n",
      "                {\n",
      "                  \"id\": \"ref|XP_063062516.1|\",\n",
      "                  \"accession\": \"XP_063062516\",\n",
      "                  \"title\": \"partitioning defective 3 homolog isoform X3 [Engraulis encrasicolus]\",\n",
      "                  \"taxid\": 184585,\n",
      "                  \"sciname\": \"Engraulis encrasicolus\"\n",
      "                }\n",
      "              ],\n",
      "              \"len\": 1481,\n",
      "              \"hsps\": [\n",
      "                {\n",
      "                  \"num\": 1,\n",
      "                  \"bit_score\": 43.5134,\n",
      "                  \"score\": 101,\n",
      "                  \"evalue\": 0.00267159,\n",
      "                  \"identity\": 20,\n",
      "                  \"positive\": 20,\n",
      "                  \"query_from\": 1,\n",
      "                  \"query_to\": 20,\n",
      "                  \"hit_from\": 824,\n",
      "                  \"hit_to\": 843,\n",
      "                  \"align_len\": 20,\n",
      "                  \"gaps\": 0,\n",
      "                  \"qseq\": \"LAFQREGFGRQSMSEKRTKQ\",\n",
      "                  \"hseq\": \"LAFQREGFGRQSMSEKRTKQ\",\n",
      "                  \"midline\": \"LAFQREGFGRQSMSEKRTKQ\"\n",
      "                }\n",
      "              ]\n",
      "            },\n",
      "            {\n",
      "              \"num\": 12,\n",
      "              \"description\": [\n",
      "                {\n",
      "                  \"id\": \"ref|XP_063778181.1|\",\n",
      "                  \"accession\": \"XP_063778181\",\n",
      "                  \"title\": \"partitioning defective 3 homolog isoform X6 [Pseudophryne corroboree]\",\n",
      "                  \"taxid\": 495146,\n",
      "                  \"sciname\": \"Pseudophryne corroboree\"\n",
      "                }\n",
      "              ],\n",
      "              \"len\": 1397,\n",
      "              \"hsps\": [\n",
      "                {\n",
      "                  \"num\": 1,\n",
      "                  \"bit_score\": 43.5134,\n",
      "                  \"score\": 101,\n",
      "                  \"evalue\": 0.00272649,\n",
      "                  \"identity\": 20,\n",
      "                  \"positive\": 20,\n",
      "                  \"query_from\": 1,\n",
      "                  \"query_to\": 20,\n",
      "                  \"hit_from\": 812,\n",
      "                  \"hit_to\": 831,\n",
      "                  \"align_len\": 20,\n",
      "                  \"gaps\": 0,\n",
      "                  \"qseq\": \"LAFQREGFGRQSMSEKRTKQ\",\n",
      "                  \"hseq\": \"LAFQREGFGRQSMSEKRTKQ\",\n",
      "                  \"midline\": \"LAFQREGFGRQSMSEKRTKQ\"\n",
      "                }\n",
      "              ]\n",
      "            },\n",
      "            {\n",
      "              \"num\": 13,\n",
      "              \"description\": [\n",
      "                {\n",
      "                  \"id\": \"ref|XP_063062514.1|\",\n",
      "                  \"accession\": \"XP_063062514\",\n",
      "                  \"title\": \"partitioning defective 3 homolog isoform X1 [Engraulis encrasicolus]\",\n",
      "                  \"taxid\": 184585,\n",
      "                  \"sciname\": \"Engraulis encrasicolus\"\n",
      "                }\n",
      "              ],\n",
      "              \"len\": 1523,\n",
      "              \"hsps\": [\n",
      "                {\n",
      "                  \"num\": 1,\n",
      "                  \"bit_score\": 43.5134,\n",
      "                  \"score\": 101,\n",
      "                  \"evalue\": 0.00277725,\n",
      "                  \"identity\": 20,\n",
      "                  \"positive\": 20,\n",
      "                  \"query_from\": 1,\n",
      "                  \"query_to\": 20,\n",
      "                  \"hit_from\": 866,\n",
      "                  \"hit_to\": 885,\n",
      "                  \"align_len\": 20,\n",
      "                  \"gaps\": 0,\n",
      "                  \"qseq\": \"LAFQREGFGRQSMSEKRTKQ\",\n",
      "                  \"hseq\": \"LAFQREGFGRQSMSEKRTKQ\",\n",
      "                  \"midline\": \"LAFQREGFGRQSMSEKRTKQ\"\n",
      "                }\n",
      "              ]\n",
      "            },\n",
      "            {\n",
      "              \"num\": 14,\n",
      "              \"description\": [\n",
      "                {\n",
      "                  \"id\": \"ref|XP_063062515.1|\",\n",
      "                  \"accession\": \"XP_063062515\",\n",
      "                  \"title\": \"partitioning defective 3 homolog isoform X2 [Engraulis encrasicolus]\",\n",
      "                  \"taxid\": 184585,\n",
      "                  \"sciname\": \"Engraulis encrasicolus\"\n",
      "                }\n",
      "              ],\n",
      "              \"len\": 1508,\n",
      "              \"hsps\": [\n",
      "                {\n",
      "                  \"num\": 1,\n",
      "                  \"bit_score\": 43.5134,\n",
      "                  \"score\": 101,\n",
      "                  \"evalue\": 0.0027776,\n",
      "                  \"identity\": 20,\n",
      "                  \"positive\": 20,\n",
      "                  \"query_from\": 1,\n",
      "                  \"query_to\": 20,\n",
      "                  \"hit_from\": 866,\n",
      "                  \"hit_to\": 885,\n",
      "                  \"align_len\": 20,\n",
      "                  \"gaps\": 0,\n",
      "                  \"qseq\": \"LAFQREGFGRQSMSEKRTKQ\",\n",
      "                  \"hseq\": \"LAFQREGFGRQSMSEKRTKQ\",\n",
      "                  \"midline\": \"LAFQREGFGRQSMSEKRTKQ\"\n",
      "                }\n",
      "              ]\n",
      "            },\n",
      "            {\n",
      "              \"num\": 15,\n",
      "              \"description\": [\n",
      "                {\n",
      "                  \"id\": \"ref|XP_063778176.1|\",\n",
      "                  \"accession\": \"XP_063778176\",\n",
      "                  \"title\": \"partitioning defective 3 homolog isoform X1 [Pseudophryne corroboree]\",\n",
      "                  \"taxid\": 495146,\n",
      "                  \"sciname\": \"Pseudophryne corroboree\"\n",
      "                }\n",
      "              ],\n",
      "              \"len\": 1413,\n",
      "              \"hsps\": [\n",
      "                {\n",
      "                  \"num\": 1,\n",
      "                  \"bit_score\": 43.5134,\n",
      "                  \"score\": 101,\n",
      "                  \"evalue\": 0.00277994,\n",
      "                  \"identity\": 20,\n",
      "                  \"positive\": 20,\n",
      "                  \"query_from\": 1,\n",
      "                  \"query_to\": 20,\n",
      "                  \"hit_from\": 812,\n",
      "                  \"hit_to\": 831,\n",
      "                  \"align_len\": 20,\n",
      "                  \"gaps\": 0,\n",
      "                  \"qseq\": \"LAFQREGFGRQSMSEKRTKQ\",\n",
      "                  \"hseq\": \"LAFQREGFGRQSMSEKRTKQ\",\n",
      "                  \"midline\": \"LAFQREGFGRQSMSEKRTKQ\"\n",
      "                }\n",
      "              ]\n",
      "            },\n",
      "            {\n",
      "              \"num\": 16,\n",
      "              \"description\": [\n",
      "                {\n",
      "                  \"id\": \"ref|XP_063778178.1|\",\n",
      "                  \"accession\": \"XP_063778178\",\n",
      "                  \"title\": \"partitioning defective 3 homolog isoform X3 [Pseudophryne corroboree]\",\n",
      "                  \"taxid\": 495146,\n",
      "                  \"sciname\": \"Pseudophryne corroboree\"\n",
      "                }\n",
      "              ],\n",
      "              \"len\": 1408,\n",
      "              \"hsps\": [\n",
      "                {\n",
      "                  \"num\": 1,\n",
      "                  \"bit_score\": 43.5134,\n",
      "                  \"score\": 101,\n",
      "                  \"evalue\": 0.00278008,\n",
      "                  \"identity\": 20,\n",
      "                  \"positive\": 20,\n",
      "                  \"query_from\": 1,\n",
      "                  \"query_to\": 20,\n",
      "                  \"hit_from\": 812,\n",
      "                  \"hit_to\": 831,\n",
      "                  \"align_len\": 20,\n",
      "                  \"gaps\": 0,\n",
      "                  \"qseq\": \"LAFQREGFGRQSMSEKRTKQ\",\n",
      "                  \"hseq\": \"LAFQREGFGRQSMSEKRTKQ\",\n",
      "                  \"midline\": \"LAFQREGFGRQSMSEKRTKQ\"\n",
      "                }\n",
      "              ]\n",
      "            },\n",
      "            {\n",
      "              \"num\": 17,\n",
      "              \"description\": [\n",
      "                {\n",
      "                  \"id\": \"ref|XP_063778179.1|\",\n",
      "                  \"accession\": \"XP_063778179\",\n",
      "                  \"title\": \"partitioning defective 3 homolog isoform X4 [Pseudophryne corroboree]\",\n",
      "                  \"taxid\": 495146,\n",
      "                  \"sciname\": \"Pseudophryne corroboree\"\n",
      "                }\n",
      "              ],\n",
      "              \"len\": 1400,\n",
      "              \"hsps\": [\n",
      "                {\n",
      "                  \"num\": 1,\n",
      "                  \"bit_score\": 43.5134,\n",
      "                  \"score\": 101,\n",
      "                  \"evalue\": 0.00278029,\n",
      "                  \"identity\": 20,\n",
      "                  \"positive\": 20,\n",
      "                  \"query_from\": 1,\n",
      "                  \"query_to\": 20,\n",
      "                  \"hit_from\": 812,\n",
      "                  \"hit_to\": 831,\n",
      "                  \"align_len\": 20,\n",
      "                  \"gaps\": 0,\n",
      "                  \"qseq\": \"LAFQREGFGRQSMSEKRTKQ\",\n",
      "                  \"hseq\": \"LAFQREGFGRQSMSEKRTKQ\",\n",
      "                  \"midline\": \"LAFQREGFGRQSMSEKRTKQ\"\n",
      "                }\n",
      "              ]\n",
      "            },\n",
      "            {\n",
      "              \"num\": 18,\n",
      "              \"description\": [\n",
      "                {\n",
      "                  \"id\": \"ref|XP_063778177.1|\",\n",
      "                  \"accession\": \"XP_063778177\",\n",
      "                  \"title\": \"partitioning defective 3 homolog isoform X2 [Pseudophryne corroboree]\",\n",
      "                  \"taxid\": 495146,\n",
      "                  \"sciname\": \"Pseudophryne corroboree\"\n",
      "                }\n",
      "              ],\n",
      "              \"len\": 1412,\n",
      "              \"hsps\": [\n",
      "                {\n",
      "                  \"num\": 1,\n",
      "                  \"bit_score\": 43.5134,\n",
      "                  \"score\": 101,\n",
      "                  \"evalue\": 0.00283491,\n",
      "                  \"identity\": 20,\n",
      "                  \"positive\": 20,\n",
      "                  \"query_from\": 1,\n",
      "                  \"query_to\": 20,\n",
      "                  \"hit_from\": 812,\n",
      "                  \"hit_to\": 831,\n",
      "                  \"align_len\": 20,\n",
      "                  \"gaps\": 0,\n",
      "                  \"qseq\": \"LAFQREGFGRQSMSEKRTKQ\",\n",
      "                  \"hseq\": \"LAFQREGFGRQSMSEKRTKQ\",\n",
      "                  \"midline\": \"LAFQREGFGRQSMSEKRTKQ\"\n",
      "                }\n",
      "              ]\n",
      "            },\n",
      "            {\n",
      "              \"num\": 19,\n",
      "              \"description\": [\n",
      "                {\n",
      "                  \"id\": \"ref|XP_026230551.1|\",\n",
      "                  \"accession\": \"XP_026230551\",\n",
      "                  \"title\": \"partitioning defective 3 homolog isoform X1 [Anabas testudineus]\",\n",
      "                  \"taxid\": 64144,\n",
      "                  \"sciname\": \"Anabas testudineus\"\n",
      "                }\n",
      "              ],\n",
      "              \"len\": 1409,\n",
      "              \"hsps\": [\n",
      "                {\n",
      "                  \"num\": 1,\n",
      "                  \"bit_score\": 43.5134,\n",
      "                  \"score\": 101,\n",
      "                  \"evalue\": 0.00289102,\n",
      "                  \"identity\": 20,\n",
      "                  \"positive\": 20,\n",
      "                  \"query_from\": 1,\n",
      "                  \"query_to\": 20,\n",
      "                  \"hit_from\": 838,\n",
      "                  \"hit_to\": 857,\n",
      "                  \"align_len\": 20,\n",
      "                  \"gaps\": 0,\n",
      "                  \"qseq\": \"LAFQREGFGRQSMSEKRTKQ\",\n",
      "                  \"hseq\": \"LAFQREGFGRQSMSEKRTKQ\",\n",
      "                  \"midline\": \"LAFQREGFGRQSMSEKRTKQ\"\n",
      "                }\n",
      "              ]\n",
      "            },\n",
      "            {\n",
      "              \"num\": 20,\n",
      "              \"description\": [\n",
      "                {\n",
      "                  \"id\": \"ref|XP_040208577.1|\",\n",
      "                  \"accession\": \"XP_040208577\",\n",
      "                  \"title\": \"partitioning defective 3 homolog isoform X5 [Rana temporaria]\",\n",
      "                  \"taxid\": 8407,\n",
      "                  \"sciname\": \"Rana temporaria\"\n",
      "                }\n",
      "              ],\n",
      "              \"len\": 1397,\n",
      "              \"hsps\": [\n",
      "                {\n",
      "                  \"num\": 1,\n",
      "                  \"bit_score\": 43.5134,\n",
      "                  \"score\": 101,\n",
      "                  \"evalue\": 0.00289135,\n",
      "                  \"identity\": 20,\n",
      "                  \"positive\": 20,\n",
      "                  \"query_from\": 1,\n",
      "                  \"query_to\": 20,\n",
      "                  \"hit_from\": 816,\n",
      "                  \"hit_to\": 835,\n",
      "                  \"align_len\": 20,\n",
      "                  \"gaps\": 0,\n",
      "                  \"qseq\": \"LAFQREGFGRQSMSEKRTKQ\",\n",
      "                  \"hseq\": \"LAFQREGFGRQSMSEKRTKQ\",\n",
      "                  \"midline\": \"LAFQREGFGRQSMSEKRTKQ\"\n",
      "                }\n",
      "              ]\n",
      "            },\n",
      "            {\n",
      "              \"num\": 21,\n",
      "              \"description\": [\n",
      "                {\n",
      "                  \"id\": \"ref|XP_040208573.1|\",\n",
      "                  \"accession\": \"XP_040208573\",\n",
      "                  \"title\": \"partitioning defective 3 homolog isoform X1 [Rana temporaria]\",\n",
      "                  \"taxid\": 8407,\n",
      "                  \"sciname\": \"Rana temporaria\"\n",
      "                }\n",
      "              ],\n",
      "              \"len\": 1426,\n",
      "              \"hsps\": [\n",
      "                {\n",
      "                  \"num\": 1,\n",
      "                  \"bit_score\": 43.5134,\n",
      "                  \"score\": 101,\n",
      "                  \"evalue\": 0.00291898,\n",
      "                  \"identity\": 20,\n",
      "                  \"positive\": 20,\n",
      "                  \"query_from\": 1,\n",
      "                  \"query_to\": 20,\n",
      "                  \"hit_from\": 816,\n",
      "                  \"hit_to\": 835,\n",
      "                  \"align_len\": 20,\n",
      "                  \"gaps\": 0,\n",
      "                  \"qseq\": \"LAFQREGFGRQSMSEKRTKQ\",\n",
      "                  \"hseq\": \"LAFQREGFGRQSMSEKRTKQ\",\n",
      "                  \"midline\": \"LAFQREGFGRQSMSEKRTKQ\"\n",
      "                }\n",
      "              ]\n",
      "            },\n",
      "            {\n",
      "              \"num\": 22,\n",
      "              \"description\": [\n",
      "                {\n",
      "                  \"id\": \"ref|XP_040208575.1|\",\n",
      "                  \"accession\": \"XP_040208575\",\n",
      "                  \"title\": \"partitioning defective 3 homolog isoform X3 [Rana temporaria]\",\n",
      "                  \"taxid\": 8407,\n",
      "                  \"sciname\": \"Rana temporaria\"\n",
      "                }\n",
      "              ],\n",
      "              \"len\": 1410,\n",
      "              \"hsps\": [\n",
      "                {\n",
      "                  \"num\": 1,\n",
      "                  \"bit_score\": 43.5134,\n",
      "                  \"score\": 101,\n",
      "                  \"evalue\": 0.00291942,\n",
      "                  \"identity\": 20,\n",
      "                  \"positive\": 20,\n",
      "                  \"query_from\": 1,\n",
      "                  \"query_to\": 20,\n",
      "                  \"hit_from\": 816,\n",
      "                  \"hit_to\": 835,\n",
      "                  \"align_len\": 20,\n",
      "                  \"gaps\": 0,\n",
      "                  \"qseq\": \"LAFQREGFGRQSMSEKRTKQ\",\n",
      "                  \"hseq\": \"LAFQREGFGRQSMSEKRTKQ\",\n",
      "                  \"midline\": \"LAFQREGFGRQSMSEKRTKQ\"\n",
      "                }\n",
      "              ]\n",
      "            },\n",
      "            {\n",
      "              \"num\": 23,\n",
      "              \"description\": [\n",
      "                {\n",
      "                  \"id\": \"ref|XP_063778180.1|\",\n",
      "                  \"accession\": \"XP_063778180\",\n",
      "                  \"title\": \"partitioning defective 3 homolog isoform X5 [Pseudophryne corroboree]\",\n",
      "                  \"taxid\": 495146,\n",
      "                  \"sciname\": \"Pseudophryne corroboree\"\n",
      "                }\n",
      "              ],\n",
      "              \"len\": 1398,\n",
      "              \"hsps\": [\n",
      "                {\n",
      "                  \"num\": 1,\n",
      "                  \"bit_score\": 43.5134,\n",
      "                  \"score\": 101,\n",
      "                  \"evalue\": 0.00291975,\n",
      "                  \"identity\": 20,\n",
      "                  \"positive\": 20,\n",
      "                  \"query_from\": 1,\n",
      "                  \"query_to\": 20,\n",
      "                  \"hit_from\": 812,\n",
      "                  \"hit_to\": 831,\n",
      "                  \"align_len\": 20,\n",
      "                  \"gaps\": 0,\n",
      "                  \"qseq\": \"LAFQREGFGRQSMSEKRTKQ\",\n",
      "                  \"hseq\": \"LAFQREGFGRQSMSEKRTKQ\",\n",
      "                  \"midline\": \"LAFQREGFGRQSMSEKRTKQ\"\n",
      "                }\n",
      "              ]\n",
      "            },\n",
      "            {\n",
      "              \"num\": 24,\n",
      "              \"description\": [\n",
      "                {\n",
      "                  \"id\": \"ref|XP_040208578.1|\",\n",
      "                  \"accession\": \"XP_040208578\",\n",
      "                  \"title\": \"partitioning defective 3 homolog isoform X6 [Rana temporaria]\",\n",
      "                  \"taxid\": 8407,\n",
      "                  \"sciname\": \"Rana temporaria\"\n",
      "                }\n",
      "              ],\n",
      "              \"len\": 1395,\n",
      "              \"hsps\": [\n",
      "                {\n",
      "                  \"num\": 1,\n",
      "                  \"bit_score\": 43.5134,\n",
      "                  \"score\": 101,\n",
      "                  \"evalue\": 0.00291984,\n",
      "                  \"identity\": 20,\n",
      "                  \"positive\": 20,\n",
      "                  \"query_from\": 1,\n",
      "                  \"query_to\": 20,\n",
      "                  \"hit_from\": 816,\n",
      "                  \"hit_to\": 835,\n",
      "                  \"align_len\": 20,\n",
      "                  \"gaps\": 0,\n",
      "                  \"qseq\": \"LAFQREGFGRQSMSEKRTKQ\",\n",
      "                  \"hseq\": \"LAFQREGFGRQSMSEKRTKQ\",\n",
      "                  \"midline\": \"LAFQREGFGRQSMSEKRTKQ\"\n",
      "                }\n",
      "              ]\n",
      "            },\n",
      "            {\n",
      "              \"num\": 25,\n",
      "              \"description\": [\n",
      "                {\n",
      "                  \"id\": \"ref|XP_040208576.1|\",\n",
      "                  \"accession\": \"XP_040208576\",\n",
      "                  \"title\": \"partitioning defective 3 homolog isoform X4 [Rana temporaria]\",\n",
      "                  \"taxid\": 8407,\n",
      "                  \"sciname\": \"Rana temporaria\"\n",
      "                }\n",
      "              ],\n",
      "              \"len\": 1410,\n",
      "              \"hsps\": [\n",
      "                {\n",
      "                  \"num\": 1,\n",
      "                  \"bit_score\": 43.5134,\n",
      "                  \"score\": 101,\n",
      "                  \"evalue\": 0.00294812,\n",
      "                  \"identity\": 20,\n",
      "                  \"positive\": 20,\n",
      "                  \"query_from\": 1,\n",
      "                  \"query_to\": 20,\n",
      "                  \"hit_from\": 816,\n",
      "                  \"hit_to\": 835,\n",
      "                  \"align_len\": 20,\n",
      "                  \"gaps\": 0,\n",
      "                  \"qseq\": \"LAFQREGFGRQSMSEKRTKQ\",\n",
      "                  \"hseq\": \"LAFQREGFGRQSMSEKRTKQ\",\n",
      "                  \"midline\": \"LAFQREGFGRQSMSEKRTKQ\"\n",
      "                }\n",
      "              ]\n",
      "            },\n",
      "            {\n",
      "              \"num\": 26,\n",
      "              \"description\": [\n",
      "                {\n",
      "                  \"id\": \"ref|XP_026230552.1|\",\n",
      "                  \"accession\": \"XP_026230552\",\n",
      "                  \"title\": \"partitioning defective 3 homolog isoform X2 [Anabas testudineus]\",\n",
      "                  \"taxid\": 64144,\n",
      "                  \"sciname\": \"Anabas testudineus\"\n",
      "                }\n",
      "              ],\n",
      "              \"len\": 1408,\n",
      "              \"hsps\": [\n",
      "                {\n",
      "                  \"num\": 1,\n",
      "                  \"bit_score\": 43.5134,\n",
      "                  \"score\": 101,\n",
      "                  \"evalue\": 0.00294818,\n",
      "                  \"identity\": 20,\n",
      "                  \"positive\": 20,\n",
      "                  \"query_from\": 1,\n",
      "                  \"query_to\": 20,\n",
      "                  \"hit_from\": 837,\n",
      "                  \"hit_to\": 856,\n",
      "                  \"align_len\": 20,\n",
      "                  \"gaps\": 0,\n",
      "                  \"qseq\": \"LAFQREGFGRQSMSEKRTKQ\",\n",
      "                  \"hseq\": \"LAFQREGFGRQSMSEKRTKQ\",\n",
      "                  \"midline\": \"LAFQREGFGRQSMSEKRTKQ\"\n",
      "                }\n",
      "              ]\n",
      "            },\n",
      "            {\n",
      "              \"num\": 27,\n",
      "              \"description\": [\n",
      "                {\n",
      "                  \"id\": \"ref|XP_019508149.1|\",\n",
      "                  \"accession\": \"XP_019508149\",\n",
      "                  \"title\": \"PREDICTED: partitioning defective 3 homolog [Hipposideros armiger]\",\n",
      "                  \"taxid\": 186990,\n",
      "                  \"sciname\": \"Hipposideros armiger\"\n",
      "                }\n",
      "              ],\n",
      "              \"len\": 1403,\n",
      "              \"hsps\": [\n",
      "                {\n",
      "                  \"num\": 1,\n",
      "                  \"bit_score\": 43.5134,\n",
      "                  \"score\": 101,\n",
      "                  \"evalue\": 0.00294832,\n",
      "                  \"identity\": 20,\n",
      "                  \"positive\": 20,\n",
      "                  \"query_from\": 1,\n",
      "                  \"query_to\": 20,\n",
      "                  \"hit_from\": 896,\n",
      "                  \"hit_to\": 915,\n",
      "                  \"align_len\": 20,\n",
      "                  \"gaps\": 0,\n",
      "                  \"qseq\": \"LAFQREGFGRQSMSEKRTKQ\",\n",
      "                  \"hseq\": \"LAFQREGFGRQSMSEKRTKQ\",\n",
      "                  \"midline\": \"LAFQREGFGRQSMSEKRTKQ\"\n",
      "                }\n",
      "              ]\n",
      "            },\n",
      "            {\n",
      "              \"num\": 28,\n",
      "              \"description\": [\n",
      "                {\n",
      "                  \"id\": \"ref|XP_026230556.1|\",\n",
      "                  \"accession\": \"XP_026230556\",\n",
      "                  \"title\": \"partitioning defective 3 homolog isoform X6 [Anabas testudineus]\",\n",
      "                  \"taxid\": 64144,\n",
      "                  \"sciname\": \"Anabas testudineus\"\n",
      "                }\n",
      "              ],\n",
      "              \"len\": 1393,\n",
      "              \"hsps\": [\n",
      "                {\n",
      "                  \"num\": 1,\n",
      "                  \"bit_score\": 43.5134,\n",
      "                  \"score\": 101,\n",
      "                  \"evalue\": 0.00300688,\n",
      "                  \"identity\": 20,\n",
      "                  \"positive\": 20,\n",
      "                  \"query_from\": 1,\n",
      "                  \"query_to\": 20,\n",
      "                  \"hit_from\": 822,\n",
      "                  \"hit_to\": 841,\n",
      "                  \"align_len\": 20,\n",
      "                  \"gaps\": 0,\n",
      "                  \"qseq\": \"LAFQREGFGRQSMSEKRTKQ\",\n",
      "                  \"hseq\": \"LAFQREGFGRQSMSEKRTKQ\",\n",
      "                  \"midline\": \"LAFQREGFGRQSMSEKRTKQ\"\n",
      "                }\n",
      "              ]\n",
      "            },\n",
      "            {\n",
      "              \"num\": 29,\n",
      "              \"description\": [\n",
      "                {\n",
      "                  \"id\": \"ref|XP_026230553.1|\",\n",
      "                  \"accession\": \"XP_026230553\",\n",
      "                  \"title\": \"partitioning defective 3 homolog isoform X3 [Anabas testudineus]\",\n",
      "                  \"taxid\": 64144,\n",
      "                  \"sciname\": \"Anabas testudineus\"\n",
      "                }\n",
      "              ],\n",
      "              \"len\": 1397,\n",
      "              \"hsps\": [\n",
      "                {\n",
      "                  \"num\": 1,\n",
      "                  \"bit_score\": 43.5134,\n",
      "                  \"score\": 101,\n",
      "                  \"evalue\": 0.00303633,\n",
      "                  \"identity\": 20,\n",
      "                  \"positive\": 20,\n",
      "                  \"query_from\": 1,\n",
      "                  \"query_to\": 20,\n",
      "                  \"hit_from\": 826,\n",
      "                  \"hit_to\": 845,\n",
      "                  \"align_len\": 20,\n",
      "                  \"gaps\": 0,\n",
      "                  \"qseq\": \"LAFQREGFGRQSMSEKRTKQ\",\n",
      "                  \"hseq\": \"LAFQREGFGRQSMSEKRTKQ\",\n",
      "                  \"midline\": \"LAFQREGFGRQSMSEKRTKQ\"\n",
      "                }\n",
      "              ]\n",
      "            },\n",
      "            {\n",
      "              \"num\": 30,\n",
      "              \"description\": [\n",
      "                {\n",
      "                  \"id\": \"ref|XP_026230554.1|\",\n",
      "                  \"accession\": \"XP_026230554\",\n",
      "                  \"title\": \"partitioning defective 3 homolog isoform X4 [Anabas testudineus]\",\n",
      "                  \"taxid\": 64144,\n",
      "                  \"sciname\": \"Anabas testudineus\"\n",
      "                }\n",
      "              ],\n",
      "              \"len\": 1396,\n",
      "              \"hsps\": [\n",
      "                {\n",
      "                  \"num\": 1,\n",
      "                  \"bit_score\": 43.5134,\n",
      "                  \"score\": 101,\n",
      "                  \"evalue\": 0.00303636,\n",
      "                  \"identity\": 20,\n",
      "                  \"positive\": 20,\n",
      "                  \"query_from\": 1,\n",
      "                  \"query_to\": 20,\n",
      "                  \"hit_from\": 825,\n",
      "                  \"hit_to\": 844,\n",
      "                  \"align_len\": 20,\n",
      "                  \"gaps\": 0,\n",
      "                  \"qseq\": \"LAFQREGFGRQSMSEKRTKQ\",\n",
      "                  \"hseq\": \"LAFQREGFGRQSMSEKRTKQ\",\n",
      "                  \"midline\": \"LAFQREGFGRQSMSEKRTKQ\"\n",
      "                }\n",
      "              ]\n",
      "            },\n",
      "            {\n",
      "              \"num\": 31,\n",
      "              \"description\": [\n",
      "                {\n",
      "                  \"id\": \"ref|XP_026230555.1|\",\n",
      "                  \"accession\": \"XP_026230555\",\n",
      "                  \"title\": \"partitioning defective 3 homolog isoform X5 [Anabas testudineus]\",\n",
      "                  \"taxid\": 64144,\n",
      "                  \"sciname\": \"Anabas testudineus\"\n",
      "                }\n",
      "              ],\n",
      "              \"len\": 1394,\n",
      "              \"hsps\": [\n",
      "                {\n",
      "                  \"num\": 1,\n",
      "                  \"bit_score\": 43.5134,\n",
      "                  \"score\": 101,\n",
      "                  \"evalue\": 0.00303642,\n",
      "                  \"identity\": 20,\n",
      "                  \"positive\": 20,\n",
      "                  \"query_from\": 1,\n",
      "                  \"query_to\": 20,\n",
      "                  \"hit_from\": 838,\n",
      "                  \"hit_to\": 857,\n",
      "                  \"align_len\": 20,\n",
      "                  \"gaps\": 0,\n",
      "                  \"qseq\": \"LAFQREGFGRQSMSEKRTKQ\",\n",
      "                  \"hseq\": \"LAFQREGFGRQSMSEKRTKQ\",\n",
      "                  \"midline\": \"LAFQREGFGRQSMSEKRTKQ\"\n",
      "                }\n",
      "              ]\n",
      "            },\n",
      "            {\n",
      "              \"num\": 32,\n",
      "              \"description\": [\n",
      "                {\n",
      "                  \"id\": \"ref|XP_047225345.1|\",\n",
      "                  \"accession\": \"XP_047225345\",\n",
      "                  \"title\": \"par-3 family cell polarity regulator alpha, b isoform X1 [Girardinichthys multiradiatus]\",\n",
      "                  \"taxid\": 208333,\n",
      "                  \"sciname\": \"Girardinichthys multiradiatus\"\n",
      "                }\n",
      "              ],\n",
      "              \"len\": 1394,\n",
      "              \"hsps\": [\n",
      "                {\n",
      "                  \"num\": 1,\n",
      "                  \"bit_score\": 43.5134,\n",
      "                  \"score\": 101,\n",
      "                  \"evalue\": 0.00303642,\n",
      "                  \"identity\": 20,\n",
      "                  \"positive\": 20,\n",
      "                  \"query_from\": 1,\n",
      "                  \"query_to\": 20,\n",
      "                  \"hit_from\": 823,\n",
      "                  \"hit_to\": 842,\n",
      "                  \"align_len\": 20,\n",
      "                  \"gaps\": 0,\n",
      "                  \"qseq\": \"LAFQREGFGRQSMSEKRTKQ\",\n",
      "                  \"hseq\": \"LAFQREGFGRQSMSEKRTKQ\",\n",
      "                  \"midline\": \"LAFQREGFGRQSMSEKRTKQ\"\n",
      "                }\n",
      "              ]\n",
      "            },\n",
      "            {\n",
      "              \"num\": 33,\n",
      "              \"description\": [\n",
      "                {\n",
      "                  \"id\": \"ref|XP_040208574.1|\",\n",
      "                  \"accession\": \"XP_040208574\",\n",
      "                  \"title\": \"partitioning defective 3 homolog isoform X2 [Rana temporaria]\",\n",
      "                  \"taxid\": 8407,\n",
      "                  \"sciname\": \"Rana temporaria\"\n",
      "                }\n",
      "              ],\n",
      "              \"len\": 1411,\n",
      "              \"hsps\": [\n",
      "                {\n",
      "                  \"num\": 1,\n",
      "                  \"bit_score\": 43.5134,\n",
      "                  \"score\": 101,\n",
      "                  \"evalue\": 0.00306577,\n",
      "                  \"identity\": 20,\n",
      "                  \"positive\": 20,\n",
      "                  \"query_from\": 1,\n",
      "                  \"query_to\": 20,\n",
      "                  \"hit_from\": 816,\n",
      "                  \"hit_to\": 835,\n",
      "                  \"align_len\": 20,\n",
      "                  \"gaps\": 0,\n",
      "                  \"qseq\": \"LAFQREGFGRQSMSEKRTKQ\",\n",
      "                  \"hseq\": \"LAFQREGFGRQSMSEKRTKQ\",\n",
      "                  \"midline\": \"LAFQREGFGRQSMSEKRTKQ\"\n",
      "                }\n",
      "              ]\n",
      "            },\n",
      "            {\n",
      "              \"num\": 34,\n",
      "              \"description\": [\n",
      "                {\n",
      "                  \"id\": \"ref|XP_030623225.1|\",\n",
      "                  \"accession\": \"XP_030623225\",\n",
      "                  \"title\": \"LOW QUALITY PROTEIN: partitioning defective 3 homolog [Chanos chanos]\",\n",
      "                  \"taxid\": 29144,\n",
      "                  \"sciname\": \"Chanos chanos\"\n",
      "                }\n",
      "              ],\n",
      "              \"len\": 1403,\n",
      "              \"hsps\": [\n",
      "                {\n",
      "                  \"num\": 1,\n",
      "                  \"bit_score\": 43.5134,\n",
      "                  \"score\": 101,\n",
      "                  \"evalue\": 0.0031266,\n",
      "                  \"identity\": 20,\n",
      "                  \"positive\": 20,\n",
      "                  \"query_from\": 1,\n",
      "                  \"query_to\": 20,\n",
      "                  \"hit_from\": 828,\n",
      "                  \"hit_to\": 847,\n",
      "                  \"align_len\": 20,\n",
      "                  \"gaps\": 0,\n",
      "                  \"qseq\": \"LAFQREGFGRQSMSEKRTKQ\",\n",
      "                  \"hseq\": \"LAFQREGFGRQSMSEKRTKQ\",\n",
      "                  \"midline\": \"LAFQREGFGRQSMSEKRTKQ\"\n",
      "                }\n",
      "              ]\n",
      "            },\n",
      "            {\n",
      "              \"num\": 35,\n",
      "              \"description\": [\n",
      "                {\n",
      "                  \"id\": \"ref|XP_065442851.1|\",\n",
      "                  \"accession\": \"XP_065442851\",\n",
      "                  \"title\": \"partitioning defective 3 homolog isoform X2 [Chrysemys picta bellii]\",\n",
      "                  \"taxid\": 8478,\n",
      "                  \"sciname\": \"Chrysemys picta bellii\"\n",
      "                }\n",
      "              ],\n",
      "              \"len\": 1398,\n",
      "              \"hsps\": [\n",
      "                {\n",
      "                  \"num\": 1,\n",
      "                  \"bit_score\": 43.5134,\n",
      "                  \"score\": 101,\n",
      "                  \"evalue\": 0.0032199,\n",
      "                  \"identity\": 20,\n",
      "                  \"positive\": 20,\n",
      "                  \"query_from\": 1,\n",
      "                  \"query_to\": 20,\n",
      "                  \"hit_from\": 859,\n",
      "                  \"hit_to\": 878,\n",
      "                  \"align_len\": 20,\n",
      "                  \"gaps\": 0,\n",
      "                  \"qseq\": \"LAFQREGFGRQSMSEKRTKQ\",\n",
      "                  \"hseq\": \"LAFQREGFGRQSMSEKRTKQ\",\n",
      "                  \"midline\": \"LAFQREGFGRQSMSEKRTKQ\"\n",
      "                }\n",
      "              ]\n",
      "            },\n",
      "            {\n",
      "              \"num\": 36,\n",
      "              \"description\": [\n",
      "                {\n",
      "                  \"id\": \"ref|XP_045322879.1|\",\n",
      "                  \"accession\": \"XP_045322879\",\n",
      "                  \"title\": \"partitioning defective 3 homolog isoform X2 [Leopardus geoffroyi]\",\n",
      "                  \"taxid\": 46844,\n",
      "                  \"sciname\": \"Leopardus geoffroyi\"\n",
      "                }\n",
      "              ],\n",
      "              \"len\": 1419,\n",
      "              \"hsps\": [\n",
      "                {\n",
      "                  \"num\": 1,\n",
      "                  \"bit_score\": 43.5134,\n",
      "                  \"score\": 101,\n",
      "                  \"evalue\": 0.00325091,\n",
      "                  \"identity\": 20,\n",
      "                  \"positive\": 20,\n",
      "                  \"query_from\": 1,\n",
      "                  \"query_to\": 20,\n",
      "                  \"hit_from\": 879,\n",
      "                  \"hit_to\": 898,\n",
      "                  \"align_len\": 20,\n",
      "                  \"gaps\": 0,\n",
      "                  \"qseq\": \"LAFQREGFGRQSMSEKRTKQ\",\n",
      "                  \"hseq\": \"LAFQREGFGRQSMSEKRTKQ\",\n",
      "                  \"midline\": \"LAFQREGFGRQSMSEKRTKQ\"\n",
      "                }\n",
      "              ]\n",
      "            },\n",
      "            {\n",
      "              \"num\": 37,\n",
      "              \"description\": [\n",
      "                {\n",
      "                  \"id\": \"ref|XP_045322880.1|\",\n",
      "                  \"accession\": \"XP_045322880\",\n",
      "                  \"title\": \"partitioning defective 3 homolog isoform X3 [Leopardus geoffroyi]\",\n",
      "                  \"taxid\": 46844,\n",
      "                  \"sciname\": \"Leopardus geoffroyi\"\n",
      "                }\n",
      "              ],\n",
      "              \"len\": 1417,\n",
      "              \"hsps\": [\n",
      "                {\n",
      "                  \"num\": 1,\n",
      "                  \"bit_score\": 43.5134,\n",
      "                  \"score\": 101,\n",
      "                  \"evalue\": 0.00325097,\n",
      "                  \"identity\": 20,\n",
      "                  \"positive\": 20,\n",
      "                  \"query_from\": 1,\n",
      "                  \"query_to\": 20,\n",
      "                  \"hit_from\": 876,\n",
      "                  \"hit_to\": 895,\n",
      "                  \"align_len\": 20,\n",
      "                  \"gaps\": 0,\n",
      "                  \"qseq\": \"LAFQREGFGRQSMSEKRTKQ\",\n",
      "                  \"hseq\": \"LAFQREGFGRQSMSEKRTKQ\",\n",
      "                  \"midline\": \"LAFQREGFGRQSMSEKRTKQ\"\n",
      "                }\n",
      "              ]\n",
      "            },\n",
      "            {\n",
      "              \"num\": 38,\n",
      "              \"description\": [\n",
      "                {\n",
      "                  \"id\": \"ref|XP_045322881.1|\",\n",
      "                  \"accession\": \"XP_045322881\",\n",
      "                  \"title\": \"partitioning defective 3 homolog isoform X4 [Leopardus geoffroyi]\",\n",
      "                  \"taxid\": 46844,\n",
      "                  \"sciname\": \"Leopardus geoffroyi\"\n",
      "                }\n",
      "              ],\n",
      "              \"len\": 1416,\n",
      "              \"hsps\": [\n",
      "                {\n",
      "                  \"num\": 1,\n",
      "                  \"bit_score\": 43.5134,\n",
      "                  \"score\": 101,\n",
      "                  \"evalue\": 0.003251,\n",
      "                  \"identity\": 20,\n",
      "                  \"positive\": 20,\n",
      "                  \"query_from\": 1,\n",
      "                  \"query_to\": 20,\n",
      "                  \"hit_from\": 876,\n",
      "                  \"hit_to\": 895,\n",
      "                  \"align_len\": 20,\n",
      "                  \"gaps\": 0,\n",
      "                  \"qseq\": \"LAFQREGFGRQSMSEKRTKQ\",\n",
      "                  \"hseq\": \"LAFQREGFGRQSMSEKRTKQ\",\n",
      "                  \"midline\": \"LAFQREGFGRQSMSEKRTKQ\"\n",
      "                }\n",
      "              ]\n",
      "            },\n",
      "            {\n",
      "              \"num\": 39,\n",
      "              \"description\": [\n",
      "                {\n",
      "                  \"id\": \"ref|XP_040306943.1|\",\n",
      "                  \"accession\": \"XP_040306943\",\n",
      "                  \"title\": \"partitioning defective 3 homolog isoform X8 [Puma yagouaroundi]\",\n",
      "                  \"taxid\": 1608482,\n",
      "                  \"sciname\": \"Puma yagouaroundi\"\n",
      "                }\n",
      "              ],\n",
      "              \"len\": 1392,\n",
      "              \"hsps\": [\n",
      "                {\n",
      "                  \"num\": 1,\n",
      "                  \"bit_score\": 43.5134,\n",
      "                  \"score\": 101,\n",
      "                  \"evalue\": 0.00325175,\n",
      "                  \"identity\": 20,\n",
      "                  \"positive\": 20,\n",
      "                  \"query_from\": 1,\n",
      "                  \"query_to\": 20,\n",
      "                  \"hit_from\": 851,\n",
      "                  \"hit_to\": 870,\n",
      "                  \"align_len\": 20,\n",
      "                  \"gaps\": 0,\n",
      "                  \"qseq\": \"LAFQREGFGRQSMSEKRTKQ\",\n",
      "                  \"hseq\": \"LAFQREGFGRQSMSEKRTKQ\",\n",
      "                  \"midline\": \"LAFQREGFGRQSMSEKRTKQ\"\n",
      "                }\n",
      "              ]\n",
      "            },\n",
      "            {\n",
      "              \"num\": 40,\n",
      "              \"description\": [\n",
      "                {\n",
      "                  \"id\": \"ref|XP_065442849.1|\",\n",
      "                  \"accession\": \"XP_065442849\",\n",
      "                  \"title\": \"partitioning defective 3 homolog isoform X1 [Chrysemys picta bellii]\",\n",
      "                  \"taxid\": 8478,\n",
      "                  \"sciname\": \"Chrysemys picta bellii\"\n",
      "                }\n",
      "              ],\n",
      "              \"len\": 1399,\n",
      "              \"hsps\": [\n",
      "                {\n",
      "                  \"num\": 1,\n",
      "                  \"bit_score\": 43.5134,\n",
      "                  \"score\": 101,\n",
      "                  \"evalue\": 0.0032835,\n",
      "                  \"identity\": 20,\n",
      "                  \"positive\": 20,\n",
      "                  \"query_from\": 1,\n",
      "                  \"query_to\": 20,\n",
      "                  \"hit_from\": 859,\n",
      "                  \"hit_to\": 878,\n",
      "                  \"align_len\": 20,\n",
      "                  \"gaps\": 0,\n",
      "                  \"qseq\": \"LAFQREGFGRQSMSEKRTKQ\",\n",
      "                  \"hseq\": \"LAFQREGFGRQSMSEKRTKQ\",\n",
      "                  \"midline\": \"LAFQREGFGRQSMSEKRTKQ\"\n",
      "                }\n",
      "              ]\n",
      "            },\n",
      "            {\n",
      "              \"num\": 41,\n",
      "              \"description\": [\n",
      "                {\n",
      "                  \"id\": \"ref|XP_045322878.1|\",\n",
      "                  \"accession\": \"XP_045322878\",\n",
      "                  \"title\": \"partitioning defective 3 homolog isoform X1 [Leopardus geoffroyi]\",\n",
      "                  \"taxid\": 46844,\n",
      "                  \"sciname\": \"Leopardus geoffroyi\"\n",
      "                }\n",
      "              ],\n",
      "              \"len\": 1420,\n",
      "              \"hsps\": [\n",
      "                {\n",
      "                  \"num\": 1,\n",
      "                  \"bit_score\": 43.5134,\n",
      "                  \"score\": 101,\n",
      "                  \"evalue\": 0.00331513,\n",
      "                  \"identity\": 20,\n",
      "                  \"positive\": 20,\n",
      "                  \"query_from\": 1,\n",
      "                  \"query_to\": 20,\n",
      "                  \"hit_from\": 879,\n",
      "                  \"hit_to\": 898,\n",
      "                  \"align_len\": 20,\n",
      "                  \"gaps\": 0,\n",
      "                  \"qseq\": \"LAFQREGFGRQSMSEKRTKQ\",\n",
      "                  \"hseq\": \"LAFQREGFGRQSMSEKRTKQ\",\n",
      "                  \"midline\": \"LAFQREGFGRQSMSEKRTKQ\"\n",
      "                }\n",
      "              ]\n",
      "            },\n",
      "            {\n",
      "              \"num\": 42,\n",
      "              \"description\": [\n",
      "                {\n",
      "                  \"id\": \"ref|XP_040306936.1|\",\n",
      "                  \"accession\": \"XP_040306936\",\n",
      "                  \"title\": \"partitioning defective 3 homolog isoform X1 [Puma yagouaroundi]\",\n",
      "                  \"taxid\": 1608482,\n",
      "                  \"sciname\": \"Puma yagouaroundi\"\n",
      "                }\n",
      "              ],\n",
      "              \"len\": 1420,\n",
      "              \"hsps\": [\n",
      "                {\n",
      "                  \"num\": 1,\n",
      "                  \"bit_score\": 43.5134,\n",
      "                  \"score\": 101,\n",
      "                  \"evalue\": 0.00331513,\n",
      "                  \"identity\": 20,\n",
      "                  \"positive\": 20,\n",
      "                  \"query_from\": 1,\n",
      "                  \"query_to\": 20,\n",
      "                  \"hit_from\": 879,\n",
      "                  \"hit_to\": 898,\n",
      "                  \"align_len\": 20,\n",
      "                  \"gaps\": 0,\n",
      "                  \"qseq\": \"LAFQREGFGRQSMSEKRTKQ\",\n",
      "                  \"hseq\": \"LAFQREGFGRQSMSEKRTKQ\",\n",
      "                  \"midline\": \"LAFQREGFGRQSMSEKRTKQ\"\n",
      "                }\n",
      "              ]\n",
      "            },\n",
      "            {\n",
      "              \"num\": 43,\n",
      "              \"description\": [\n",
      "                {\n",
      "                  \"id\": \"ref|XP_026929576.1|\",\n",
      "                  \"accession\": \"XP_026929576\",\n",
      "                  \"title\": \"partitioning defective 3 homolog isoform X1 [Acinonyx jubatus]\",\n",
      "                  \"taxid\": 32536,\n",
      "                  \"sciname\": \"Acinonyx jubatus\"\n",
      "                }\n",
      "              ],\n",
      "              \"len\": 1420,\n",
      "              \"hsps\": [\n",
      "                {\n",
      "                  \"num\": 1,\n",
      "                  \"bit_score\": 43.5134,\n",
      "                  \"score\": 101,\n",
      "                  \"evalue\": 0.00331513,\n",
      "                  \"identity\": 20,\n",
      "                  \"positive\": 20,\n",
      "                  \"query_from\": 1,\n",
      "                  \"query_to\": 20,\n",
      "                  \"hit_from\": 879,\n",
      "                  \"hit_to\": 898,\n",
      "                  \"align_len\": 20,\n",
      "                  \"gaps\": 0,\n",
      "                  \"qseq\": \"LAFQREGFGRQSMSEKRTKQ\",\n",
      "                  \"hseq\": \"LAFQREGFGRQSMSEKRTKQ\",\n",
      "                  \"midline\": \"LAFQREGFGRQSMSEKRTKQ\"\n",
      "                }\n",
      "              ]\n",
      "            },\n",
      "            {\n",
      "              \"num\": 44,\n",
      "              \"description\": [\n",
      "                {\n",
      "                  \"id\": \"ref|XP_026929577.1|\",\n",
      "                  \"accession\": \"XP_026929577\",\n",
      "                  \"title\": \"partitioning defective 3 homolog isoform X2 [Acinonyx jubatus]\",\n",
      "                  \"taxid\": 32536,\n",
      "                  \"sciname\": \"Acinonyx jubatus\"\n",
      "                }\n",
      "              ],\n",
      "              \"len\": 1419,\n",
      "              \"hsps\": [\n",
      "                {\n",
      "                  \"num\": 1,\n",
      "                  \"bit_score\": 43.5134,\n",
      "                  \"score\": 101,\n",
      "                  \"evalue\": 0.00331516,\n",
      "                  \"identity\": 20,\n",
      "                  \"positive\": 20,\n",
      "                  \"query_from\": 1,\n",
      "                  \"query_to\": 20,\n",
      "                  \"hit_from\": 879,\n",
      "                  \"hit_to\": 898,\n",
      "                  \"align_len\": 20,\n",
      "                  \"gaps\": 0,\n",
      "                  \"qseq\": \"LAFQREGFGRQSMSEKRTKQ\",\n",
      "                  \"hseq\": \"LAFQREGFGRQSMSEKRTKQ\",\n",
      "                  \"midline\": \"LAFQREGFGRQSMSEKRTKQ\"\n",
      "                }\n",
      "              ]\n",
      "            },\n",
      "            {\n",
      "              \"num\": 45,\n",
      "              \"description\": [\n",
      "                {\n",
      "                  \"id\": \"ref|XP_040306937.1|\",\n",
      "                  \"accession\": \"XP_040306937\",\n",
      "                  \"title\": \"partitioning defective 3 homolog isoform X2 [Puma yagouaroundi]\",\n",
      "                  \"taxid\": 1608482,\n",
      "                  \"sciname\": \"Puma yagouaroundi\"\n",
      "                }\n",
      "              ],\n",
      "              \"len\": 1419,\n",
      "              \"hsps\": [\n",
      "                {\n",
      "                  \"num\": 1,\n",
      "                  \"bit_score\": 43.5134,\n",
      "                  \"score\": 101,\n",
      "                  \"evalue\": 0.00331516,\n",
      "                  \"identity\": 20,\n",
      "                  \"positive\": 20,\n",
      "                  \"query_from\": 1,\n",
      "                  \"query_to\": 20,\n",
      "                  \"hit_from\": 879,\n",
      "                  \"hit_to\": 898,\n",
      "                  \"align_len\": 20,\n",
      "                  \"gaps\": 0,\n",
      "                  \"qseq\": \"LAFQREGFGRQSMSEKRTKQ\",\n",
      "                  \"hseq\": \"LAFQREGFGRQSMSEKRTKQ\",\n",
      "                  \"midline\": \"LAFQREGFGRQSMSEKRTKQ\"\n",
      "                }\n",
      "              ]\n",
      "            },\n",
      "            {\n",
      "              \"num\": 46,\n",
      "              \"description\": [\n",
      "                {\n",
      "                  \"id\": \"ref|XP_026929579.1|\",\n",
      "                  \"accession\": \"XP_026929579\",\n",
      "                  \"title\": \"partitioning defective 3 homolog isoform X3 [Acinonyx jubatus]\",\n",
      "                  \"taxid\": 32536,\n",
      "                  \"sciname\": \"Acinonyx jubatus\"\n",
      "                }\n",
      "              ],\n",
      "              \"len\": 1417,\n",
      "              \"hsps\": [\n",
      "                {\n",
      "                  \"num\": 1,\n",
      "                  \"bit_score\": 43.5134,\n",
      "                  \"score\": 101,\n",
      "                  \"evalue\": 0.00331522,\n",
      "                  \"identity\": 20,\n",
      "                  \"positive\": 20,\n",
      "                  \"query_from\": 1,\n",
      "                  \"query_to\": 20,\n",
      "                  \"hit_from\": 876,\n",
      "                  \"hit_to\": 895,\n",
      "                  \"align_len\": 20,\n",
      "                  \"gaps\": 0,\n",
      "                  \"qseq\": \"LAFQREGFGRQSMSEKRTKQ\",\n",
      "                  \"hseq\": \"LAFQREGFGRQSMSEKRTKQ\",\n",
      "                  \"midline\": \"LAFQREGFGRQSMSEKRTKQ\"\n",
      "                }\n",
      "              ]\n",
      "            },\n",
      "            {\n",
      "              \"num\": 47,\n",
      "              \"description\": [\n",
      "                {\n",
      "                  \"id\": \"ref|XP_040306938.1|\",\n",
      "                  \"accession\": \"XP_040306938\",\n",
      "                  \"title\": \"partitioning defective 3 homolog isoform X3 [Puma yagouaroundi]\",\n",
      "                  \"taxid\": 1608482,\n",
      "                  \"sciname\": \"Puma yagouaroundi\"\n",
      "                }\n",
      "              ],\n",
      "              \"len\": 1417,\n",
      "              \"hsps\": [\n",
      "                {\n",
      "                  \"num\": 1,\n",
      "                  \"bit_score\": 43.5134,\n",
      "                  \"score\": 101,\n",
      "                  \"evalue\": 0.00331522,\n",
      "                  \"identity\": 20,\n",
      "                  \"positive\": 20,\n",
      "                  \"query_from\": 1,\n",
      "                  \"query_to\": 20,\n",
      "                  \"hit_from\": 876,\n",
      "                  \"hit_to\": 895,\n",
      "                  \"align_len\": 20,\n",
      "                  \"gaps\": 0,\n",
      "                  \"qseq\": \"LAFQREGFGRQSMSEKRTKQ\",\n",
      "                  \"hseq\": \"LAFQREGFGRQSMSEKRTKQ\",\n",
      "                  \"midline\": \"LAFQREGFGRQSMSEKRTKQ\"\n",
      "                }\n",
      "              ]\n",
      "            },\n",
      "            {\n",
      "              \"num\": 48,\n",
      "              \"description\": [\n",
      "                {\n",
      "                  \"id\": \"ref|XP_026929580.1|\",\n",
      "                  \"accession\": \"XP_026929580\",\n",
      "                  \"title\": \"partitioning defective 3 homolog isoform X4 [Acinonyx jubatus]\",\n",
      "                  \"taxid\": 32536,\n",
      "                  \"sciname\": \"Acinonyx jubatus\"\n",
      "                }\n",
      "              ],\n",
      "              \"len\": 1407,\n",
      "              \"hsps\": [\n",
      "                {\n",
      "                  \"num\": 1,\n",
      "                  \"bit_score\": 43.5134,\n",
      "                  \"score\": 101,\n",
      "                  \"evalue\": 0.00331554,\n",
      "                  \"identity\": 20,\n",
      "                  \"positive\": 20,\n",
      "                  \"query_from\": 1,\n",
      "                  \"query_to\": 20,\n",
      "                  \"hit_from\": 866,\n",
      "                  \"hit_to\": 885,\n",
      "                  \"align_len\": 20,\n",
      "                  \"gaps\": 0,\n",
      "                  \"qseq\": \"LAFQREGFGRQSMSEKRTKQ\",\n",
      "                  \"hseq\": \"LAFQREGFGRQSMSEKRTKQ\",\n",
      "                  \"midline\": \"LAFQREGFGRQSMSEKRTKQ\"\n",
      "                }\n",
      "              ]\n",
      "            },\n",
      "            {\n",
      "              \"num\": 49,\n",
      "              \"description\": [\n",
      "                {\n",
      "                  \"id\": \"ref|XP_040306939.1|\",\n",
      "                  \"accession\": \"XP_040306939\",\n",
      "                  \"title\": \"partitioning defective 3 homolog isoform X4 [Puma yagouaroundi]\",\n",
      "                  \"taxid\": 1608482,\n",
      "                  \"sciname\": \"Puma yagouaroundi\"\n",
      "                }\n",
      "              ],\n",
      "              \"len\": 1407,\n",
      "              \"hsps\": [\n",
      "                {\n",
      "                  \"num\": 1,\n",
      "                  \"bit_score\": 43.5134,\n",
      "                  \"score\": 101,\n",
      "                  \"evalue\": 0.00331554,\n",
      "                  \"identity\": 20,\n",
      "                  \"positive\": 20,\n",
      "                  \"query_from\": 1,\n",
      "                  \"query_to\": 20,\n",
      "                  \"hit_from\": 866,\n",
      "                  \"hit_to\": 885,\n",
      "                  \"align_len\": 20,\n",
      "                  \"gaps\": 0,\n",
      "                  \"qseq\": \"LAFQREGFGRQSMSEKRTKQ\",\n",
      "                  \"hseq\": \"LAFQREGFGRQSMSEKRTKQ\",\n",
      "                  \"midline\": \"LAFQREGFGRQSMSEKRTKQ\"\n",
      "                }\n",
      "              ]\n",
      "            },\n",
      "            {\n",
      "              \"num\": 50,\n",
      "              \"description\": [\n",
      "                {\n",
      "                  \"id\": \"ref|XP_026929581.1|\",\n",
      "                  \"accession\": \"XP_026929581\",\n",
      "                  \"title\": \"partitioning defective 3 homolog isoform X5 [Acinonyx jubatus]\",\n",
      "                  \"taxid\": 32536,\n",
      "                  \"sciname\": \"Acinonyx jubatus\"\n",
      "                }\n",
      "              ],\n",
      "              \"len\": 1406,\n",
      "              \"hsps\": [\n",
      "                {\n",
      "                  \"num\": 1,\n",
      "                  \"bit_score\": 43.5134,\n",
      "                  \"score\": 101,\n",
      "                  \"evalue\": 0.00331557,\n",
      "                  \"identity\": 20,\n",
      "                  \"positive\": 20,\n",
      "                  \"query_from\": 1,\n",
      "                  \"query_to\": 20,\n",
      "                  \"hit_from\": 866,\n",
      "                  \"hit_to\": 885,\n",
      "                  \"align_len\": 20,\n",
      "                  \"gaps\": 0,\n",
      "                  \"qseq\": \"LAFQREGFGRQSMSEKRTKQ\",\n",
      "                  \"hseq\": \"LAFQREGFGRQSMSEKRTKQ\",\n",
      "                  \"midline\": \"LAFQREGFGRQSMSEKRTKQ\"\n",
      "                }\n",
      "              ]\n",
      "            }\n",
      "          ],\n",
      "          \"stat\": {\n",
      "            \"db_num\": 779777264,\n",
      "            \"db_len\": 298971289230,\n",
      "            \"hsp_len\": 0,\n",
      "            \"eff_space\": 5979425784600,\n",
      "            \"kappa\": 0.041,\n",
      "            \"lambda\": 0.267,\n",
      "            \"entropy\": 0.14\n",
      "          }\n",
      "        }\n",
      "      }\n",
      "    }\n",
      "  }\n",
      "}\n",
      "\n"
     ]
    }
   ],
   "source": [
    "print(data)"
   ]
  },
  {
   "cell_type": "code",
   "execution_count": null,
   "id": "a72dec0f-a8c5-4e55-8eb8-c3ae8db796da",
   "metadata": {},
   "outputs": [],
   "source": [
    "Now I wanna see whether I can use taxid to specify search results to C.elegans organism. I was also looking to make the max target seq=250 instead of 100 which is the default"
   ]
  },
  {
   "cell_type": "code",
   "execution_count": null,
   "id": "c0284b16-a407-4a99-8487-64ad8e2fcd5c",
   "metadata": {},
   "outputs": [],
   "source": [
    "Let's start with the BLAST search of the APC protein "
   ]
  },
  {
   "cell_type": "code",
   "execution_count": 9,
   "id": "6c1c82d8-8b7d-448c-8dd0-f0268d4516ee",
   "metadata": {},
   "outputs": [],
   "source": [
    "result_stream = Blast.qblast(\"blastp\", \"nr\", \"SFQ94271.1\" , hitlist_size=250 , expect=0.05 , entrez_query=\"Caenorhabditis elegans[Organism]\" , gapcosts=\"11 1\" , matrix_name=\"BLOSUM62\" , word_size=5 , format_type=\"JSON2\")"
   ]
  },
  {
   "cell_type": "code",
   "execution_count": 10,
   "id": "726277a7-55a0-4447-ab1b-ba8b77f359ee",
   "metadata": {},
   "outputs": [],
   "source": [
    "data = result_stream.read()"
   ]
  },
  {
   "cell_type": "code",
   "execution_count": 11,
   "id": "371a8a69-b285-430c-9d27-41106730a929",
   "metadata": {},
   "outputs": [
    {
     "data": {
      "text/plain": [
       "b'PK\\x03\\x04'"
      ]
     },
     "execution_count": 11,
     "metadata": {},
     "output_type": "execute_result"
    }
   ],
   "source": [
    "data[:4]"
   ]
  },
  {
   "cell_type": "code",
   "execution_count": 12,
   "id": "1c728626-e226-4b0f-b8b7-3966c8711fea",
   "metadata": {},
   "outputs": [],
   "source": [
    "with open(\"APCCel.zip\", \"wb\") as out_stream:\n",
    "    out_stream.write(data)"
   ]
  },
  {
   "cell_type": "code",
   "execution_count": 13,
   "id": "6e5c416c-56a9-4695-ab68-b1ca58fcb1f6",
   "metadata": {},
   "outputs": [],
   "source": [
    "import zipfile"
   ]
  },
  {
   "cell_type": "code",
   "execution_count": 14,
   "id": "ba55924b-b641-4422-a4b5-10b7eb6ed64b",
   "metadata": {},
   "outputs": [],
   "source": [
    "myzipfile = zipfile.ZipFile(\"APCCel.zip\")"
   ]
  },
  {
   "cell_type": "code",
   "execution_count": 15,
   "id": "0281c11e-ed56-4bd3-8ee9-53a7c02fd574",
   "metadata": {},
   "outputs": [
    {
     "data": {
      "text/plain": [
       "['CY05W96H013.json', 'CY05W96H013_1.json']"
      ]
     },
     "execution_count": 15,
     "metadata": {},
     "output_type": "execute_result"
    }
   ],
   "source": [
    "myzipfile.namelist()"
   ]
  },
  {
   "cell_type": "code",
   "execution_count": 16,
   "id": "48a0ea65-7d1a-4ce9-8757-80be5d1a1a26",
   "metadata": {},
   "outputs": [],
   "source": [
    "stream = myzipfile.open(\"CY05W96H013.json\")"
   ]
  },
  {
   "cell_type": "code",
   "execution_count": 17,
   "id": "c5425b1d-c33b-41f1-b7a5-96344d8b1ba8",
   "metadata": {},
   "outputs": [],
   "source": [
    "data = stream.read()"
   ]
  },
  {
   "cell_type": "code",
   "execution_count": 18,
   "id": "d84f0844-3b99-4af6-98ed-933b6ad42a5a",
   "metadata": {},
   "outputs": [],
   "source": [
    "data = data.decode()"
   ]
  },
  {
   "cell_type": "code",
   "execution_count": 19,
   "id": "3c91bf4d-d08a-45f5-a1ad-b3132a445554",
   "metadata": {},
   "outputs": [
    {
     "name": "stdout",
     "output_type": "stream",
     "text": [
      "{\n",
      "\t\"BlastJSON\": [\n",
      "\t\t{\"File\": \"CY05W96H013_1.json\" }\n",
      "\t]\n",
      "}\n"
     ]
    }
   ],
   "source": [
    "print(data)"
   ]
  },
  {
   "cell_type": "code",
   "execution_count": 20,
   "id": "0c82680d-dc4f-46c8-b163-820b91437f4c",
   "metadata": {},
   "outputs": [],
   "source": [
    "stream = myzipfile.open(\"CY05W96H013_1.json\")"
   ]
  },
  {
   "cell_type": "code",
   "execution_count": 21,
   "id": "1461aec5-946b-4049-be8a-c74aca25eda5",
   "metadata": {},
   "outputs": [],
   "source": [
    "data = stream.read()"
   ]
  },
  {
   "cell_type": "code",
   "execution_count": 22,
   "id": "9104ce1f-671f-4931-bda8-49ac5de275b8",
   "metadata": {},
   "outputs": [
    {
     "data": {
      "text/plain": [
       "13715"
      ]
     },
     "execution_count": 22,
     "metadata": {},
     "output_type": "execute_result"
    }
   ],
   "source": [
    "len(data)"
   ]
  },
  {
   "cell_type": "code",
   "execution_count": 23,
   "id": "b695b2fd-184d-43f2-89aa-efb46d97c96e",
   "metadata": {},
   "outputs": [],
   "source": [
    "data = data.decode()"
   ]
  },
  {
   "cell_type": "code",
   "execution_count": 24,
   "id": "aee68a06-421c-49d5-80b0-51ac4a8edad3",
   "metadata": {},
   "outputs": [
    {
     "name": "stdout",
     "output_type": "stream",
     "text": [
      "{\n",
      "  \"BlastOutput2\": {\n",
      "    \"report\": {\n",
      "      \"program\": \"blastp\",\n",
      "      \"version\": \"BLASTP 2.16.0+\",\n",
      "      \"reference\": \"Stephen F. Altschul, Thomas L. Madden, Alejandro A. Sch&auml;ffer, Jinghui Zhang, Zheng Zhang, Webb Miller, and David J. Lipman (1997), \\\"Gapped BLAST and PSI-BLAST: a new generation of protein database search programs\\\", Nucleic Acids Res. 25:3389-3402.\",\n",
      "      \"search_target\": {\n",
      "        \"db\": \"nr\"\n",
      "      },\n",
      "      \"params\": {\n",
      "        \"matrix\": \"BLOSUM62\",\n",
      "        \"expect\": 0.05,\n",
      "        \"gap_open\": 11,\n",
      "        \"gap_extend\": 1,\n",
      "        \"filter\": \"F\",\n",
      "        \"entrez_query\": \"Caenorhabditis elegans[Organism]\",\n",
      "        \"cbs\": 2\n",
      "      },\n",
      "      \"results\": {\n",
      "        \"search\": {\n",
      "          \"query_id\": \"SFQ94271.1\",\n",
      "          \"query_title\": \"Adenomatous polyposis coli protein [Caenorhabditis elegans]\",\n",
      "          \"query_len\": 892,\n",
      "          \"hits\": [\n",
      "            {\n",
      "              \"num\": 1,\n",
      "              \"description\": [\n",
      "                {\n",
      "                  \"id\": \"ref|NP_001334202.1|\",\n",
      "                  \"accession\": \"NP_001334202\",\n",
      "                  \"title\": \"Adenomatous polyposis coli protein [Caenorhabditis elegans]\",\n",
      "                  \"taxid\": 6239,\n",
      "                  \"sciname\": \"Caenorhabditis elegans\"\n",
      "                },\n",
      "                {\n",
      "                  \"id\": \"emb|SFQ94271.1|\",\n",
      "                  \"accession\": \"SFQ94271\",\n",
      "                  \"title\": \"Adenomatous polyposis coli protein [Caenorhabditis elegans]\",\n",
      "                  \"taxid\": 6239,\n",
      "                  \"sciname\": \"Caenorhabditis elegans\"\n",
      "                }\n",
      "              ],\n",
      "              \"len\": 892,\n",
      "              \"hsps\": [\n",
      "                {\n",
      "                  \"num\": 1,\n",
      "                  \"bit_score\": 1853.18,\n",
      "                  \"score\": 4799,\n",
      "                  \"evalue\": 0,\n",
      "                  \"identity\": 892,\n",
      "                  \"positive\": 892,\n",
      "                  \"query_from\": 1,\n",
      "                  \"query_to\": 892,\n",
      "                  \"hit_from\": 1,\n",
      "                  \"hit_to\": 892,\n",
      "                  \"align_len\": 892,\n",
      "                  \"gaps\": 0,\n",
      "                  \"qseq\": \"MSSSSSDENETTIHRTGSNTGGSGIYSQPRAGSSKRTSNVRHDVSDVDDEEEHYARFREDTAIEVDDAITVLLSSLHFEHKRDIVPTDEDDNKLRELHEKIFALITSESDVNRKRRLKKALPASNCVREQVYYLRRKPSTPPASYYHRLNAALHTIVKESFGEEYRKVATVLGLVEALAEVLILEVHTFGINETNPGEHRNIRKLIANALTNLTYGQIHSKRRLCSYDGFIRCVVRIVIESPNITQVYAGLIRNLSWNADSGMSEALQPTVHALSIAAVHAHTHRFDVTATLSALWNLAGHSVENKRTICDTPNCLKVLASLLSPDARFTSLVDSATGILKYVSQYLANTSTHLELRSLLITRMLTLLKSASFTCVTNTLGAIANLIVKDPHMQQMIRQDMAAVQQLNVLRNSNRDDIRTAVKSVLNTLNQPCSHRYGDMSHSVGGGATGMQMLSEPQLQMQTSHHAYHGTASPRLLSLRATRASPGKYIQPQAQQQLIQTPQVDQRSSSLPRHFAVQRNGFVMAQSYNQQMDQHQQQQMIYQLQQQQQIMFQTEDQAQMEHHQQIMYLQQQQQQFHQIQQQQQMQKAQEADPVPPTDDDLDIPTSTVMGTRSNSERSLGSMNPGSVMTNWNSSLDTAANSSRALSPVSYNDIPASPTMCAQVFNLPKSTESEHHQLTSQQQNTTHYSSGSANTMTRSDGATTVPMDNIITPTYAILNPILVHEQTPNGTVPRKTSEELDSPDDVLPGPSLEEEEGDYAIIGGAAQKTDDELLTRSIQSEMPTSSSTPKMKVSPRLNGFFSPTQKTTSSPAWSHPDTSPIPKSSSHRTQPNRRQDASDADRLLMESIMSEMPKSRIISPRLAGTQQYLEPEPERRSHSKRGSRSPRRIHRIA\",\n",
      "                  \"hseq\": \"MSSSSSDENETTIHRTGSNTGGSGIYSQPRAGSSKRTSNVRHDVSDVDDEEEHYARFREDTAIEVDDAITVLLSSLHFEHKRDIVPTDEDDNKLRELHEKIFALITSESDVNRKRRLKKALPASNCVREQVYYLRRKPSTPPASYYHRLNAALHTIVKESFGEEYRKVATVLGLVEALAEVLILEVHTFGINETNPGEHRNIRKLIANALTNLTYGQIHSKRRLCSYDGFIRCVVRIVIESPNITQVYAGLIRNLSWNADSGMSEALQPTVHALSIAAVHAHTHRFDVTATLSALWNLAGHSVENKRTICDTPNCLKVLASLLSPDARFTSLVDSATGILKYVSQYLANTSTHLELRSLLITRMLTLLKSASFTCVTNTLGAIANLIVKDPHMQQMIRQDMAAVQQLNVLRNSNRDDIRTAVKSVLNTLNQPCSHRYGDMSHSVGGGATGMQMLSEPQLQMQTSHHAYHGTASPRLLSLRATRASPGKYIQPQAQQQLIQTPQVDQRSSSLPRHFAVQRNGFVMAQSYNQQMDQHQQQQMIYQLQQQQQIMFQTEDQAQMEHHQQIMYLQQQQQQFHQIQQQQQMQKAQEADPVPPTDDDLDIPTSTVMGTRSNSERSLGSMNPGSVMTNWNSSLDTAANSSRALSPVSYNDIPASPTMCAQVFNLPKSTESEHHQLTSQQQNTTHYSSGSANTMTRSDGATTVPMDNIITPTYAILNPILVHEQTPNGTVPRKTSEELDSPDDVLPGPSLEEEEGDYAIIGGAAQKTDDELLTRSIQSEMPTSSSTPKMKVSPRLNGFFSPTQKTTSSPAWSHPDTSPIPKSSSHRTQPNRRQDASDADRLLMESIMSEMPKSRIISPRLAGTQQYLEPEPERRSHSKRGSRSPRRIHRIA\",\n",
      "                  \"midline\": \"MSSSSSDENETTIHRTGSNTGGSGIYSQPRAGSSKRTSNVRHDVSDVDDEEEHYARFREDTAIEVDDAITVLLSSLHFEHKRDIVPTDEDDNKLRELHEKIFALITSESDVNRKRRLKKALPASNCVREQVYYLRRKPSTPPASYYHRLNAALHTIVKESFGEEYRKVATVLGLVEALAEVLILEVHTFGINETNPGEHRNIRKLIANALTNLTYGQIHSKRRLCSYDGFIRCVVRIVIESPNITQVYAGLIRNLSWNADSGMSEALQPTVHALSIAAVHAHTHRFDVTATLSALWNLAGHSVENKRTICDTPNCLKVLASLLSPDARFTSLVDSATGILKYVSQYLANTSTHLELRSLLITRMLTLLKSASFTCVTNTLGAIANLIVKDPHMQQMIRQDMAAVQQLNVLRNSNRDDIRTAVKSVLNTLNQPCSHRYGDMSHSVGGGATGMQMLSEPQLQMQTSHHAYHGTASPRLLSLRATRASPGKYIQPQAQQQLIQTPQVDQRSSSLPRHFAVQRNGFVMAQSYNQQMDQHQQQQMIYQLQQQQQIMFQTEDQAQMEHHQQIMYLQQQQQQFHQIQQQQQMQKAQEADPVPPTDDDLDIPTSTVMGTRSNSERSLGSMNPGSVMTNWNSSLDTAANSSRALSPVSYNDIPASPTMCAQVFNLPKSTESEHHQLTSQQQNTTHYSSGSANTMTRSDGATTVPMDNIITPTYAILNPILVHEQTPNGTVPRKTSEELDSPDDVLPGPSLEEEEGDYAIIGGAAQKTDDELLTRSIQSEMPTSSSTPKMKVSPRLNGFFSPTQKTTSSPAWSHPDTSPIPKSSSHRTQPNRRQDASDADRLLMESIMSEMPKSRIISPRLAGTQQYLEPEPERRSHSKRGSRSPRRIHRIA\"\n",
      "                }\n",
      "              ]\n",
      "            },\n",
      "            {\n",
      "              \"num\": 2,\n",
      "              \"description\": [\n",
      "                {\n",
      "                  \"id\": \"ref|NP_001021547.1|\",\n",
      "                  \"accession\": \"NP_001021547\",\n",
      "                  \"title\": \"Adenomatous polyposis coli protein-related protein 1 [Caenorhabditis elegans]\",\n",
      "                  \"taxid\": 6239,\n",
      "                  \"sciname\": \"Caenorhabditis elegans\"\n",
      "                },\n",
      "                {\n",
      "                  \"id\": \"sp|Q21227.2|\",\n",
      "                  \"accession\": \"Q21227\",\n",
      "                  \"title\": \"RecName: Full=Adenomatous polyposis coli protein-related protein 1; Short=APC-related protein 1 [Caenorhabditis elegans]\",\n",
      "                  \"taxid\": 6239,\n",
      "                  \"sciname\": \"Caenorhabditis elegans\"\n",
      "                },\n",
      "                {\n",
      "                  \"id\": \"emb|CAB00048.1|\",\n",
      "                  \"accession\": \"CAB00048\",\n",
      "                  \"title\": \"Adenomatous polyposis coli protein-related protein 1 [Caenorhabditis elegans]\",\n",
      "                  \"taxid\": 6239,\n",
      "                  \"sciname\": \"Caenorhabditis elegans\"\n",
      "                }\n",
      "              ],\n",
      "              \"len\": 1188,\n",
      "              \"hsps\": [\n",
      "                {\n",
      "                  \"num\": 1,\n",
      "                  \"bit_score\": 1828.14,\n",
      "                  \"score\": 4734,\n",
      "                  \"evalue\": 0,\n",
      "                  \"identity\": 879,\n",
      "                  \"positive\": 879,\n",
      "                  \"query_from\": 1,\n",
      "                  \"query_to\": 879,\n",
      "                  \"hit_from\": 1,\n",
      "                  \"hit_to\": 879,\n",
      "                  \"align_len\": 879,\n",
      "                  \"gaps\": 0,\n",
      "                  \"qseq\": \"MSSSSSDENETTIHRTGSNTGGSGIYSQPRAGSSKRTSNVRHDVSDVDDEEEHYARFREDTAIEVDDAITVLLSSLHFEHKRDIVPTDEDDNKLRELHEKIFALITSESDVNRKRRLKKALPASNCVREQVYYLRRKPSTPPASYYHRLNAALHTIVKESFGEEYRKVATVLGLVEALAEVLILEVHTFGINETNPGEHRNIRKLIANALTNLTYGQIHSKRRLCSYDGFIRCVVRIVIESPNITQVYAGLIRNLSWNADSGMSEALQPTVHALSIAAVHAHTHRFDVTATLSALWNLAGHSVENKRTICDTPNCLKVLASLLSPDARFTSLVDSATGILKYVSQYLANTSTHLELRSLLITRMLTLLKSASFTCVTNTLGAIANLIVKDPHMQQMIRQDMAAVQQLNVLRNSNRDDIRTAVKSVLNTLNQPCSHRYGDMSHSVGGGATGMQMLSEPQLQMQTSHHAYHGTASPRLLSLRATRASPGKYIQPQAQQQLIQTPQVDQRSSSLPRHFAVQRNGFVMAQSYNQQMDQHQQQQMIYQLQQQQQIMFQTEDQAQMEHHQQIMYLQQQQQQFHQIQQQQQMQKAQEADPVPPTDDDLDIPTSTVMGTRSNSERSLGSMNPGSVMTNWNSSLDTAANSSRALSPVSYNDIPASPTMCAQVFNLPKSTESEHHQLTSQQQNTTHYSSGSANTMTRSDGATTVPMDNIITPTYAILNPILVHEQTPNGTVPRKTSEELDSPDDVLPGPSLEEEEGDYAIIGGAAQKTDDELLTRSIQSEMPTSSSTPKMKVSPRLNGFFSPTQKTTSSPAWSHPDTSPIPKSSSHRTQPNRRQDASDADRLLMESIMSEMPKSRIISPRLAGTQQYLEPEPERRSHSK\",\n",
      "                  \"hseq\": \"MSSSSSDENETTIHRTGSNTGGSGIYSQPRAGSSKRTSNVRHDVSDVDDEEEHYARFREDTAIEVDDAITVLLSSLHFEHKRDIVPTDEDDNKLRELHEKIFALITSESDVNRKRRLKKALPASNCVREQVYYLRRKPSTPPASYYHRLNAALHTIVKESFGEEYRKVATVLGLVEALAEVLILEVHTFGINETNPGEHRNIRKLIANALTNLTYGQIHSKRRLCSYDGFIRCVVRIVIESPNITQVYAGLIRNLSWNADSGMSEALQPTVHALSIAAVHAHTHRFDVTATLSALWNLAGHSVENKRTICDTPNCLKVLASLLSPDARFTSLVDSATGILKYVSQYLANTSTHLELRSLLITRMLTLLKSASFTCVTNTLGAIANLIVKDPHMQQMIRQDMAAVQQLNVLRNSNRDDIRTAVKSVLNTLNQPCSHRYGDMSHSVGGGATGMQMLSEPQLQMQTSHHAYHGTASPRLLSLRATRASPGKYIQPQAQQQLIQTPQVDQRSSSLPRHFAVQRNGFVMAQSYNQQMDQHQQQQMIYQLQQQQQIMFQTEDQAQMEHHQQIMYLQQQQQQFHQIQQQQQMQKAQEADPVPPTDDDLDIPTSTVMGTRSNSERSLGSMNPGSVMTNWNSSLDTAANSSRALSPVSYNDIPASPTMCAQVFNLPKSTESEHHQLTSQQQNTTHYSSGSANTMTRSDGATTVPMDNIITPTYAILNPILVHEQTPNGTVPRKTSEELDSPDDVLPGPSLEEEEGDYAIIGGAAQKTDDELLTRSIQSEMPTSSSTPKMKVSPRLNGFFSPTQKTTSSPAWSHPDTSPIPKSSSHRTQPNRRQDASDADRLLMESIMSEMPKSRIISPRLAGTQQYLEPEPERRSHSK\",\n",
      "                  \"midline\": \"MSSSSSDENETTIHRTGSNTGGSGIYSQPRAGSSKRTSNVRHDVSDVDDEEEHYARFREDTAIEVDDAITVLLSSLHFEHKRDIVPTDEDDNKLRELHEKIFALITSESDVNRKRRLKKALPASNCVREQVYYLRRKPSTPPASYYHRLNAALHTIVKESFGEEYRKVATVLGLVEALAEVLILEVHTFGINETNPGEHRNIRKLIANALTNLTYGQIHSKRRLCSYDGFIRCVVRIVIESPNITQVYAGLIRNLSWNADSGMSEALQPTVHALSIAAVHAHTHRFDVTATLSALWNLAGHSVENKRTICDTPNCLKVLASLLSPDARFTSLVDSATGILKYVSQYLANTSTHLELRSLLITRMLTLLKSASFTCVTNTLGAIANLIVKDPHMQQMIRQDMAAVQQLNVLRNSNRDDIRTAVKSVLNTLNQPCSHRYGDMSHSVGGGATGMQMLSEPQLQMQTSHHAYHGTASPRLLSLRATRASPGKYIQPQAQQQLIQTPQVDQRSSSLPRHFAVQRNGFVMAQSYNQQMDQHQQQQMIYQLQQQQQIMFQTEDQAQMEHHQQIMYLQQQQQQFHQIQQQQQMQKAQEADPVPPTDDDLDIPTSTVMGTRSNSERSLGSMNPGSVMTNWNSSLDTAANSSRALSPVSYNDIPASPTMCAQVFNLPKSTESEHHQLTSQQQNTTHYSSGSANTMTRSDGATTVPMDNIITPTYAILNPILVHEQTPNGTVPRKTSEELDSPDDVLPGPSLEEEEGDYAIIGGAAQKTDDELLTRSIQSEMPTSSSTPKMKVSPRLNGFFSPTQKTTSSPAWSHPDTSPIPKSSSHRTQPNRRQDASDADRLLMESIMSEMPKSRIISPRLAGTQQYLEPEPERRSHSK\"\n",
      "                }\n",
      "              ]\n",
      "            },\n",
      "            {\n",
      "              \"num\": 3,\n",
      "              \"description\": [\n",
      "                {\n",
      "                  \"id\": \"ref|NP_492217.2|\",\n",
      "                  \"accession\": \"NP_492217\",\n",
      "                  \"title\": \"Adenomatous polyposis coli protein-related protein 1 [Caenorhabditis elegans]\",\n",
      "                  \"taxid\": 6239,\n",
      "                  \"sciname\": \"Caenorhabditis elegans\"\n",
      "                },\n",
      "                {\n",
      "                  \"id\": \"gb|AAC47747.1|\",\n",
      "                  \"accession\": \"AAC47747\",\n",
      "                  \"title\": \"APR-1 [Caenorhabditis elegans]\",\n",
      "                  \"taxid\": 6239,\n",
      "                  \"sciname\": \"Caenorhabditis elegans\"\n",
      "                },\n",
      "                {\n",
      "                  \"id\": \"emb|CAB00045.1|\",\n",
      "                  \"accession\": \"CAB00045\",\n",
      "                  \"title\": \"Adenomatous polyposis coli protein-related protein 1 [Caenorhabditis elegans]\",\n",
      "                  \"taxid\": 6239,\n",
      "                  \"sciname\": \"Caenorhabditis elegans\"\n",
      "                }\n",
      "              ],\n",
      "              \"len\": 1186,\n",
      "              \"hsps\": [\n",
      "                {\n",
      "                  \"num\": 1,\n",
      "                  \"bit_score\": 1818.13,\n",
      "                  \"score\": 4708,\n",
      "                  \"evalue\": 0,\n",
      "                  \"identity\": 877,\n",
      "                  \"positive\": 877,\n",
      "                  \"query_from\": 1,\n",
      "                  \"query_to\": 879,\n",
      "                  \"hit_from\": 1,\n",
      "                  \"hit_to\": 877,\n",
      "                  \"align_len\": 879,\n",
      "                  \"gaps\": 2,\n",
      "                  \"qseq\": \"MSSSSSDENETTIHRTGSNTGGSGIYSQPRAGSSKRTSNVRHDVSDVDDEEEHYARFREDTAIEVDDAITVLLSSLHFEHKRDIVPTDEDDNKLRELHEKIFALITSESDVNRKRRLKKALPASNCVREQVYYLRRKPSTPPASYYHRLNAALHTIVKESFGEEYRKVATVLGLVEALAEVLILEVHTFGINETNPGEHRNIRKLIANALTNLTYGQIHSKRRLCSYDGFIRCVVRIVIESPNITQVYAGLIRNLSWNADSGMSEALQPTVHALSIAAVHAHTHRFDVTATLSALWNLAGHSVENKRTICDTPNCLKVLASLLSPDARFTSLVDSATGILKYVSQYLANTSTHLELRSLLITRMLTLLKSASFTCVTNTLGAIANLIVKDPHMQQMIRQDMAAVQQLNVLRNSNRDDIRTAVKSVLNTLNQPCSHRYGDMSHSVGGGATGMQMLSEPQLQMQTSHHAYHGTASPRLLSLRATRASPGKYIQPQAQQQLIQTPQVDQRSSSLPRHFAVQRNGFVMAQSYNQQMDQHQQQQMIYQLQQQQQIMFQTEDQAQMEHHQQIMYLQQQQQQFHQIQQQQQMQKAQEADPVPPTDDDLDIPTSTVMGTRSNSERSLGSMNPGSVMTNWNSSLDTAANSSRALSPVSYNDIPASPTMCAQVFNLPKSTESEHHQLTSQQQNTTHYSSGSANTMTRSDGATTVPMDNIITPTYAILNPILVHEQTPNGTVPRKTSEELDSPDDVLPGPSLEEEEGDYAIIGGAAQKTDDELLTRSIQSEMPTSSSTPKMKVSPRLNGFFSPTQKTTSSPAWSHPDTSPIPKSSSHRTQPNRRQDASDADRLLMESIMSEMPKSRIISPRLAGTQQYLEPEPERRSHSK\",\n",
      "                  \"hseq\": \"MSSSSSDENETTIHRTGSNTGGSGIYSQPRAGSSKRTSNVRHDVSDVDDEEEHYARFREDTAIEVDDAITVLLSSLHFEHKRDIVPTDEDDNKLRELHEKIFALITSESDVNRKRRLKKALPASNCVREQVYYLRRKPSTPPASYYHRLNAALHTIVKESFGEEYRKVATVLGLVEALAEVLILEVHTFGINETNPGEHRNIRKLIANALTNLTYGQIHSKRRLCSYDGFIRCVVRIVIESPNITQVYAGLIRNLSWNADSGMSEALQPTVHALSIAAVHAHTHRFDVTATLSALWNLAGHSVENKRTICDTPNCLKVLASLLSPDARFTSLVDSATGILKYVSQYLANTSTHLELRSLLITRMLTLLKSASFTCVTNTLGAIANLIVKDPHMQQMIRQDMAAVQQLNVLRNSNRDDIRTAVKSVLNTLNQPCSHRYGDMSHSVGGGATGMQMLSEPQLQMQTSHHAYHGTASPRLLSLRATRASPGKYIQPQAQQQLIQTPQVDQRSSSLPRHFAVQRNGFVMAQSYNQQMDQHQQQQMIYQLQQQQQIM--TEDQAQMEHHQQIMYLQQQQQQFHQIQQQQQMQKAQEADPVPPTDDDLDIPTSTVMGTRSNSERSLGSMNPGSVMTNWNSSLDTAANSSRALSPVSYNDIPASPTMCAQVFNLPKSTESEHHQLTSQQQNTTHYSSGSANTMTRSDGATTVPMDNIITPTYAILNPILVHEQTPNGTVPRKTSEELDSPDDVLPGPSLEEEEGDYAIIGGAAQKTDDELLTRSIQSEMPTSSSTPKMKVSPRLNGFFSPTQKTTSSPAWSHPDTSPIPKSSSHRTQPNRRQDASDADRLLMESIMSEMPKSRIISPRLAGTQQYLEPEPERRSHSK\",\n",
      "                  \"midline\": \"MSSSSSDENETTIHRTGSNTGGSGIYSQPRAGSSKRTSNVRHDVSDVDDEEEHYARFREDTAIEVDDAITVLLSSLHFEHKRDIVPTDEDDNKLRELHEKIFALITSESDVNRKRRLKKALPASNCVREQVYYLRRKPSTPPASYYHRLNAALHTIVKESFGEEYRKVATVLGLVEALAEVLILEVHTFGINETNPGEHRNIRKLIANALTNLTYGQIHSKRRLCSYDGFIRCVVRIVIESPNITQVYAGLIRNLSWNADSGMSEALQPTVHALSIAAVHAHTHRFDVTATLSALWNLAGHSVENKRTICDTPNCLKVLASLLSPDARFTSLVDSATGILKYVSQYLANTSTHLELRSLLITRMLTLLKSASFTCVTNTLGAIANLIVKDPHMQQMIRQDMAAVQQLNVLRNSNRDDIRTAVKSVLNTLNQPCSHRYGDMSHSVGGGATGMQMLSEPQLQMQTSHHAYHGTASPRLLSLRATRASPGKYIQPQAQQQLIQTPQVDQRSSSLPRHFAVQRNGFVMAQSYNQQMDQHQQQQMIYQLQQQQQIM  TEDQAQMEHHQQIMYLQQQQQQFHQIQQQQQMQKAQEADPVPPTDDDLDIPTSTVMGTRSNSERSLGSMNPGSVMTNWNSSLDTAANSSRALSPVSYNDIPASPTMCAQVFNLPKSTESEHHQLTSQQQNTTHYSSGSANTMTRSDGATTVPMDNIITPTYAILNPILVHEQTPNGTVPRKTSEELDSPDDVLPGPSLEEEEGDYAIIGGAAQKTDDELLTRSIQSEMPTSSSTPKMKVSPRLNGFFSPTQKTTSSPAWSHPDTSPIPKSSSHRTQPNRRQDASDADRLLMESIMSEMPKSRIISPRLAGTQQYLEPEPERRSHSK\"\n",
      "                }\n",
      "              ]\n",
      "            }\n",
      "          ],\n",
      "          \"stat\": {\n",
      "            \"db_num\": 32092,\n",
      "            \"db_len\": 15364670,\n",
      "            \"hsp_len\": 110,\n",
      "            \"eff_space\": 9254618100,\n",
      "            \"kappa\": 0.041,\n",
      "            \"lambda\": 0.267,\n",
      "            \"entropy\": 0.14\n",
      "          }\n",
      "        }\n",
      "      }\n",
      "    }\n",
      "  }\n",
      "}\n",
      "\n"
     ]
    }
   ],
   "source": [
    "print(data)"
   ]
  },
  {
   "cell_type": "code",
   "execution_count": null,
   "id": "0327f959-13bc-4e55-ad55-065e0f4541ce",
   "metadata": {},
   "outputs": [],
   "source": [
    "This is just as example of what the JSON file and the search looks like. I'm gonna run the same BLAST test with the same prameters for the rest of proteins and get JSON files"
   ]
  },
  {
   "cell_type": "code",
   "execution_count": null,
   "id": "8d8d171e-c9fe-4e8d-8334-243c97ebcf87",
   "metadata": {},
   "outputs": [],
   "source": [
    "Now lets run the test for AXIN"
   ]
  },
  {
   "cell_type": "code",
   "execution_count": 25,
   "id": "dfd97ec4-aed8-4378-9467-52b7c8da8a91",
   "metadata": {},
   "outputs": [],
   "source": [
    "result_stream1 = Blast.qblast(\"blastp\", \"nr\", \"ABA28304.1\" , hitlist_size=250 , expect=0.05 , entrez_query=\"Caenorhabditis elegans[Organism]\" , gapcosts=\"11 1\" , matrix_name=\"BLOSUM62\" , word_size=5 , format_type=\"JSON2\")"
   ]
  },
  {
   "cell_type": "code",
   "execution_count": 26,
   "id": "e6ce3e9e-dfbb-4544-b5ea-4afaf91e97fd",
   "metadata": {},
   "outputs": [],
   "source": [
    "data = result_stream1.read()"
   ]
  },
  {
   "cell_type": "code",
   "execution_count": 27,
   "id": "eb1cd61b-2bf4-4f13-b6b2-fa13f320a3e5",
   "metadata": {},
   "outputs": [
    {
     "data": {
      "text/plain": [
       "b'PK\\x03\\x04'"
      ]
     },
     "execution_count": 27,
     "metadata": {},
     "output_type": "execute_result"
    }
   ],
   "source": [
    "data[:4]"
   ]
  },
  {
   "cell_type": "code",
   "execution_count": 28,
   "id": "8b9f73df-163e-4725-8e17-e31b74ac659b",
   "metadata": {},
   "outputs": [],
   "source": [
    "with open(\"AXINCel.zip\", \"wb\") as out_stream1:\n",
    "    out_stream1.write(data)"
   ]
  },
  {
   "cell_type": "code",
   "execution_count": 29,
   "id": "2e2c54ab-65f8-4690-84a7-39b75f700165",
   "metadata": {},
   "outputs": [],
   "source": [
    "import zipfile"
   ]
  },
  {
   "cell_type": "code",
   "execution_count": 30,
   "id": "b77ead57-10e6-4c26-b894-f756dfaf128c",
   "metadata": {},
   "outputs": [],
   "source": [
    "myzipfile = zipfile.ZipFile(\"AXINCel.zip\")"
   ]
  },
  {
   "cell_type": "code",
   "execution_count": 31,
   "id": "099645c4-7391-4e37-ba5d-61206184f50b",
   "metadata": {},
   "outputs": [
    {
     "data": {
      "text/plain": [
       "['CY1U4E4A016.json', 'CY1U4E4A016_1.json']"
      ]
     },
     "execution_count": 31,
     "metadata": {},
     "output_type": "execute_result"
    }
   ],
   "source": [
    "myzipfile.namelist()"
   ]
  },
  {
   "cell_type": "code",
   "execution_count": 32,
   "id": "79635853-d131-45d0-b677-f578e1172bdb",
   "metadata": {},
   "outputs": [],
   "source": [
    "stream1 = myzipfile.open(\"CY1U4E4A016.json\")"
   ]
  },
  {
   "cell_type": "code",
   "execution_count": 33,
   "id": "f9373089-7bc7-4656-a273-2900a8ff09bb",
   "metadata": {},
   "outputs": [],
   "source": [
    "data = stream1.read()"
   ]
  },
  {
   "cell_type": "code",
   "execution_count": 34,
   "id": "78acfbe5-67e9-411e-bcda-291891b841f2",
   "metadata": {},
   "outputs": [],
   "source": [
    "data = data.decode()"
   ]
  },
  {
   "cell_type": "code",
   "execution_count": 35,
   "id": "38742acb-6fbb-42e2-9727-1f387d214189",
   "metadata": {},
   "outputs": [
    {
     "name": "stdout",
     "output_type": "stream",
     "text": [
      "{\n",
      "\t\"BlastJSON\": [\n",
      "\t\t{\"File\": \"CY1U4E4A016_1.json\" }\n",
      "\t]\n",
      "}\n"
     ]
    }
   ],
   "source": [
    "print(data)"
   ]
  },
  {
   "cell_type": "code",
   "execution_count": 36,
   "id": "20e8a36b-c593-40f6-aca6-34edfc891846",
   "metadata": {},
   "outputs": [],
   "source": [
    "stream1 = myzipfile.open(\"CY1U4E4A016_1.json\")"
   ]
  },
  {
   "cell_type": "code",
   "execution_count": 37,
   "id": "36ab2a3d-da43-493a-9f20-ff73a4a727b6",
   "metadata": {},
   "outputs": [],
   "source": [
    "data = stream1.read()"
   ]
  },
  {
   "cell_type": "code",
   "execution_count": 38,
   "id": "4d59362c-e979-42f5-bb25-a877af64aedf",
   "metadata": {},
   "outputs": [
    {
     "data": {
      "text/plain": [
       "8501"
      ]
     },
     "execution_count": 38,
     "metadata": {},
     "output_type": "execute_result"
    }
   ],
   "source": [
    "len(data)"
   ]
  },
  {
   "cell_type": "code",
   "execution_count": 39,
   "id": "4d382449-d67b-440e-876d-165551088f6a",
   "metadata": {},
   "outputs": [],
   "source": [
    "data = data.decode()"
   ]
  },
  {
   "cell_type": "code",
   "execution_count": null,
   "id": "da5702ad-c848-4c2f-a0c4-df1eebbb7cc4",
   "metadata": {},
   "outputs": [],
   "source": [
    "B-Caatenin BLAST search results"
   ]
  },
  {
   "cell_type": "code",
   "execution_count": 41,
   "id": "7b378b49-80c5-4357-82a5-cc9440257583",
   "metadata": {},
   "outputs": [],
   "source": [
    "result_stream2 = Blast.qblast(\"blastp\", \"nr\", \"CCE71280.1\" , hitlist_size=250 , expect=0.05 , entrez_query=\"Caenorhabditis elegans[Organism]\" , gapcosts=\"11 1\" , matrix_name=\"BLOSUM62\" , word_size=5 , format_type=\"JSON2\")"
   ]
  },
  {
   "cell_type": "code",
   "execution_count": 42,
   "id": "c1454267-8bf9-444e-b631-8baa819dcb28",
   "metadata": {},
   "outputs": [],
   "source": [
    "data = result_stream2.read()"
   ]
  },
  {
   "cell_type": "code",
   "execution_count": 43,
   "id": "b7d62fdf-8778-4a71-bd40-7d057a541e2f",
   "metadata": {},
   "outputs": [
    {
     "data": {
      "text/plain": [
       "b'PK\\x03\\x04'"
      ]
     },
     "execution_count": 43,
     "metadata": {},
     "output_type": "execute_result"
    }
   ],
   "source": [
    "data[:4]"
   ]
  },
  {
   "cell_type": "code",
   "execution_count": 44,
   "id": "e696746a-e1c9-4ef0-a620-f6a3135dcac2",
   "metadata": {},
   "outputs": [],
   "source": [
    "with open(\"BCatenin.zip\", \"wb\") as out_stream2:\n",
    "    out_stream2.write(data)"
   ]
  },
  {
   "cell_type": "code",
   "execution_count": 45,
   "id": "18fe84e6-8592-4fef-8b3a-6b2ea1bd65ab",
   "metadata": {},
   "outputs": [],
   "source": [
    "import zipfile"
   ]
  },
  {
   "cell_type": "code",
   "execution_count": 46,
   "id": "d025c225-4502-4ded-afc9-49b8c25f5637",
   "metadata": {},
   "outputs": [],
   "source": [
    "myzipfile = zipfile.ZipFile(\"BCatenin.zip\")"
   ]
  },
  {
   "cell_type": "code",
   "execution_count": 47,
   "id": "68b1b967-d144-40ee-be43-bdb691115ee2",
   "metadata": {},
   "outputs": [
    {
     "data": {
      "text/plain": [
       "['CY2CNYTM016.json', 'CY2CNYTM016_1.json']"
      ]
     },
     "execution_count": 47,
     "metadata": {},
     "output_type": "execute_result"
    }
   ],
   "source": [
    "myzipfile.namelist()"
   ]
  },
  {
   "cell_type": "code",
   "execution_count": 48,
   "id": "0e157dc9-1ded-4e4d-87e3-2291aa854b1d",
   "metadata": {},
   "outputs": [],
   "source": [
    "stream2 = myzipfile.open(\"CY2CNYTM016.json\")"
   ]
  },
  {
   "cell_type": "code",
   "execution_count": 49,
   "id": "d9e2be53-f889-4a7a-8367-61b23d2ad4d9",
   "metadata": {},
   "outputs": [],
   "source": [
    "data = stream2.read()"
   ]
  },
  {
   "cell_type": "code",
   "execution_count": 50,
   "id": "c29e9190-3968-48c1-8097-4ff7d0a67bfd",
   "metadata": {},
   "outputs": [],
   "source": [
    "data = data.decode()"
   ]
  },
  {
   "cell_type": "code",
   "execution_count": 51,
   "id": "27fb3eac-d180-48da-9651-a7f3a85c40fe",
   "metadata": {},
   "outputs": [
    {
     "name": "stdout",
     "output_type": "stream",
     "text": [
      "{\n",
      "\t\"BlastJSON\": [\n",
      "\t\t{\"File\": \"CY2CNYTM016_1.json\" }\n",
      "\t]\n",
      "}\n"
     ]
    }
   ],
   "source": [
    "print(data)"
   ]
  },
  {
   "cell_type": "code",
   "execution_count": 52,
   "id": "b6172198-e2d8-442c-ad1b-760dd0570cf5",
   "metadata": {},
   "outputs": [],
   "source": [
    "stream2 = myzipfile.open(\"CY2CNYTM016_1.json\")"
   ]
  },
  {
   "cell_type": "code",
   "execution_count": 53,
   "id": "3763e1c0-9a70-4539-be5b-1f58a9a251ed",
   "metadata": {},
   "outputs": [],
   "source": [
    "data = stream2.read()"
   ]
  },
  {
   "cell_type": "code",
   "execution_count": 54,
   "id": "5edbf4b9-ff6b-4d5d-8216-a9e6042472c7",
   "metadata": {},
   "outputs": [
    {
     "data": {
      "text/plain": [
       "16090"
      ]
     },
     "execution_count": 54,
     "metadata": {},
     "output_type": "execute_result"
    }
   ],
   "source": [
    "len(data)"
   ]
  },
  {
   "cell_type": "code",
   "execution_count": 55,
   "id": "43b0629b-f83b-4cda-ace8-ab72d52d9072",
   "metadata": {},
   "outputs": [],
   "source": [
    "data = data.decode()"
   ]
  },
  {
   "cell_type": "code",
   "execution_count": 57,
   "id": "55fb56f1-dbf9-4efa-b5e9-d72cfaccf86b",
   "metadata": {},
   "outputs": [],
   "source": [
    "result_stream3 = Blast.qblast(\"blastp\", \"nr\", \"O02039.1\" , hitlist_size=250 , expect=0.05 , entrez_query=\"Caenorhabditis elegans[Organism]\" , gapcosts=\"11 1\" , matrix_name=\"BLOSUM62\" , word_size=5 , format_type=\"JSON2\")"
   ]
  },
  {
   "cell_type": "code",
   "execution_count": 58,
   "id": "5677ac63-d043-4631-ac4b-ed76152cfffb",
   "metadata": {},
   "outputs": [],
   "source": [
    "data = result_stream3.read()"
   ]
  },
  {
   "cell_type": "code",
   "execution_count": 59,
   "id": "27304b57-31ce-4e9b-b0a4-454bce3ba201",
   "metadata": {},
   "outputs": [
    {
     "data": {
      "text/plain": [
       "b'PK\\x03\\x04'"
      ]
     },
     "execution_count": 59,
     "metadata": {},
     "output_type": "execute_result"
    }
   ],
   "source": [
    "data[:4]"
   ]
  },
  {
   "cell_type": "code",
   "execution_count": 60,
   "id": "8b409dc8-4556-45a4-8819-752d127c7083",
   "metadata": {},
   "outputs": [],
   "source": [
    "with open(\"CAN.zip\", \"wb\") as out_stream:\n",
    "    out_stream.write(data)"
   ]
  },
  {
   "cell_type": "code",
   "execution_count": 61,
   "id": "f65b85b8-6fa5-4e38-8fd1-5f49f39cd841",
   "metadata": {},
   "outputs": [],
   "source": [
    "import zipfile"
   ]
  },
  {
   "cell_type": "code",
   "execution_count": 73,
   "id": "d1bb9f0d-6333-416f-8f79-77f71397ce24",
   "metadata": {},
   "outputs": [],
   "source": [
    "myzipfile = zipfile.ZipFile(\"CAN.zip\")"
   ]
  },
  {
   "cell_type": "code",
   "execution_count": 74,
   "id": "a92bfc60-2b1a-428c-9f22-6dce35649d9f",
   "metadata": {},
   "outputs": [
    {
     "data": {
      "text/plain": [
       "['CY4FXDJ3016.json', 'CY4FXDJ3016_1.json']"
      ]
     },
     "execution_count": 74,
     "metadata": {},
     "output_type": "execute_result"
    }
   ],
   "source": [
    "myzipfile.namelist()"
   ]
  },
  {
   "cell_type": "code",
   "execution_count": 75,
   "id": "6198a17e-0032-428a-9713-2c324f03948c",
   "metadata": {},
   "outputs": [],
   "source": [
    "stream = myzipfile.open(\"CY4FXDJ3016.json\")"
   ]
  },
  {
   "cell_type": "code",
   "execution_count": 76,
   "id": "3fef0e0b-af79-41cf-bff6-786d3b023055",
   "metadata": {},
   "outputs": [],
   "source": [
    "data = stream.read()"
   ]
  },
  {
   "cell_type": "code",
   "execution_count": 77,
   "id": "a07a81c1-a410-4bc5-86b8-d966b48af27e",
   "metadata": {},
   "outputs": [],
   "source": [
    "data = data.decode()"
   ]
  },
  {
   "cell_type": "code",
   "execution_count": 78,
   "id": "4ad294e3-e8ec-4272-9577-8ce2ff8b9584",
   "metadata": {},
   "outputs": [
    {
     "name": "stdout",
     "output_type": "stream",
     "text": [
      "{\n",
      "\t\"BlastJSON\": [\n",
      "\t\t{\"File\": \"CY4FXDJ3016_1.json\" }\n",
      "\t]\n",
      "}\n"
     ]
    }
   ],
   "source": [
    "print(data)"
   ]
  },
  {
   "cell_type": "code",
   "execution_count": 79,
   "id": "e7a47364-7117-4e0b-b1a6-33b1a97522a4",
   "metadata": {},
   "outputs": [],
   "source": [
    "stream = myzipfile.open(\"CY4FXDJ3016_1.json\")"
   ]
  },
  {
   "cell_type": "code",
   "execution_count": 80,
   "id": "9a9c4988-b800-4b5c-b0bc-123cb0b2e22a",
   "metadata": {},
   "outputs": [],
   "source": [
    "data = stream.read()"
   ]
  },
  {
   "cell_type": "code",
   "execution_count": 81,
   "id": "f6f68646-8aff-4e13-8d8e-6e0499946870",
   "metadata": {},
   "outputs": [
    {
     "data": {
      "text/plain": [
       "10140"
      ]
     },
     "execution_count": 81,
     "metadata": {},
     "output_type": "execute_result"
    }
   ],
   "source": [
    "len(data)"
   ]
  },
  {
   "cell_type": "code",
   "execution_count": 82,
   "id": "adabc92e-7d95-4296-8462-958d7cf01f2b",
   "metadata": {},
   "outputs": [],
   "source": [
    "data = data.decode()"
   ]
  },
  {
   "cell_type": "code",
   "execution_count": null,
   "id": "8c606f6e-13a9-4d41-ab7d-c380917b5d03",
   "metadata": {},
   "outputs": [],
   "source": [
    "Now the test for CK-1"
   ]
  },
  {
   "cell_type": "code",
   "execution_count": 109,
   "id": "33e5fd61-96ab-4594-83cc-928412aa9569",
   "metadata": {},
   "outputs": [],
   "source": [
    "result_stream4 = Blast.qblast(\"blastp\", \"nr\", \"AAP06180.1\" , hitlist_size=250 , expect=0.05 , entrez_query=\"Caenorhabditis elegans[Organism]\" , gapcosts=\"11 1\" , matrix_name=\"BLOSUM62\" , word_size=5 , format_type=\"JSON2\")"
   ]
  },
  {
   "cell_type": "code",
   "execution_count": 110,
   "id": "b22a1099-b8df-4719-ba8c-e63844186573",
   "metadata": {},
   "outputs": [],
   "source": [
    "data = result_stream4.read()"
   ]
  },
  {
   "cell_type": "code",
   "execution_count": 111,
   "id": "c98d27a5-4620-45f3-8371-782114f12408",
   "metadata": {},
   "outputs": [
    {
     "data": {
      "text/plain": [
       "b'PK\\x03\\x04'"
      ]
     },
     "execution_count": 111,
     "metadata": {},
     "output_type": "execute_result"
    }
   ],
   "source": [
    "data[:4]"
   ]
  },
  {
   "cell_type": "code",
   "execution_count": 112,
   "id": "140fe07c-ac72-4e7b-96d3-98cc2b810aea",
   "metadata": {},
   "outputs": [],
   "source": [
    "with open(\"CK1-Celtest.zip\", \"wb\") as out_stream4:\n",
    "    out_stream4.write(data)"
   ]
  },
  {
   "cell_type": "code",
   "execution_count": 113,
   "id": "4979cb2b-e1b7-43be-8bda-3421b7aa3113",
   "metadata": {},
   "outputs": [],
   "source": [
    "import zipfile"
   ]
  },
  {
   "cell_type": "code",
   "execution_count": 114,
   "id": "b24d7674-6e2b-49da-a964-01306a75e8e8",
   "metadata": {},
   "outputs": [],
   "source": [
    "myzipfile = zipfile.ZipFile(\"CK1-Celtest.zip\")"
   ]
  },
  {
   "cell_type": "code",
   "execution_count": 115,
   "id": "c0dbc965-ca03-4eb8-92ec-4898bf63aac3",
   "metadata": {},
   "outputs": [
    {
     "name": "stderr",
     "output_type": "stream",
     "text": [
      "/home/noob/.local/lib/python3.10/site-packages/Bio/Blast/__init__.py:1226: BiopythonWarning: BLAST request CY92BZN3013 is taking longer than 10 minutes, consider re-issuing it\n",
      "  warnings.warn(\n"
     ]
    }
   ],
   "source": [
    "result_stream5 = Blast.qblast(\"blastp\", \"nr\", \"NP_495598.1\" , hitlist_size=250 , expect=0.05 , entrez_query=\"Caenorhabditis elegans[Organism]\" , gapcosts=\"11 1\" , matrix_name=\"BLOSUM62\" , word_size=5 , format_type=\"JSON2\")"
   ]
  },
  {
   "cell_type": "code",
   "execution_count": 116,
   "id": "d50ab688-1031-4eff-85fd-c47614bce854",
   "metadata": {},
   "outputs": [],
   "source": [
    "data = result_stream5.read()"
   ]
  },
  {
   "cell_type": "code",
   "execution_count": 117,
   "id": "2731eedc-024d-4add-bac2-c4b5557451e6",
   "metadata": {},
   "outputs": [
    {
     "data": {
      "text/plain": [
       "b'PK\\x03\\x04'"
      ]
     },
     "execution_count": 117,
     "metadata": {},
     "output_type": "execute_result"
    }
   ],
   "source": [
    "data[:4]"
   ]
  },
  {
   "cell_type": "code",
   "execution_count": 118,
   "id": "7120bbc7-d222-40b9-b871-c32e9c0c9723",
   "metadata": {},
   "outputs": [],
   "source": [
    "with open(\"Cdc42.zip\", \"wb\") as out_stream5:\n",
    "    out_stream5.write(data)"
   ]
  },
  {
   "cell_type": "code",
   "execution_count": 119,
   "id": "d2940c26-ca45-40dc-a51a-f083aab3bb15",
   "metadata": {},
   "outputs": [],
   "source": [
    "import zipfile"
   ]
  },
  {
   "cell_type": "code",
   "execution_count": 120,
   "id": "5632aa1c-26f0-4fc2-9581-36c74e2b929b",
   "metadata": {},
   "outputs": [],
   "source": [
    "myzipfile = zipfile.ZipFile(\"Cdc42.zip\")"
   ]
  },
  {
   "cell_type": "code",
   "execution_count": 121,
   "id": "620e9cd2-f8b2-4ee8-8e37-c6abd0709b37",
   "metadata": {},
   "outputs": [],
   "source": [
    "result_stream6 = Blast.qblast(\"blastp\", \"nr\", \"BAA82640.1\" , hitlist_size=250 , expect=0.05 , entrez_query=\"Caenorhabditis elegans[Organism]\" , gapcosts=\"11 1\" , matrix_name=\"BLOSUM62\" , word_size=5 , format_type=\"JSON2\")"
   ]
  },
  {
   "cell_type": "code",
   "execution_count": 122,
   "id": "91da6f6e-37f5-4b1c-b1f9-09b4e962d5ec",
   "metadata": {},
   "outputs": [],
   "source": [
    "data = result_stream6.read()"
   ]
  },
  {
   "cell_type": "code",
   "execution_count": 123,
   "id": "a8d55386-6058-4a1b-97eb-fffb838d7584",
   "metadata": {},
   "outputs": [
    {
     "data": {
      "text/plain": [
       "b'PK\\x03\\x04'"
      ]
     },
     "execution_count": 123,
     "metadata": {},
     "output_type": "execute_result"
    }
   ],
   "source": [
    "data[:4]"
   ]
  },
  {
   "cell_type": "code",
   "execution_count": 124,
   "id": "181e382a-3a16-48ef-80da-3f8cff0e7777",
   "metadata": {},
   "outputs": [],
   "source": [
    "with open(\"JNK.zip\", \"wb\") as out_stream6:\n",
    "    out_stream6.write(data)"
   ]
  },
  {
   "cell_type": "code",
   "execution_count": 125,
   "id": "3fc6f443-903f-4782-aac8-951838e705c8",
   "metadata": {},
   "outputs": [],
   "source": [
    "import zipfile"
   ]
  },
  {
   "cell_type": "code",
   "execution_count": 126,
   "id": "8c62066c-767a-49b3-a5cc-2b3f4d476023",
   "metadata": {},
   "outputs": [],
   "source": [
    "myzipfile1 = zipfile.ZipFile(\"JNK.zip\")"
   ]
  },
  {
   "cell_type": "code",
   "execution_count": null,
   "id": "5e62d020-a1b7-41d3-99f3-6c87162b9380",
   "metadata": {},
   "outputs": [],
   "source": [
    "I realized that I don't need to read the JSON files using the Notebook. I can just read it on my device and I can upload it to Github for others to see"
   ]
  },
  {
   "cell_type": "code",
   "execution_count": 127,
   "id": "66cbabfc-7dda-40b3-9f13-be456a6bc32d",
   "metadata": {},
   "outputs": [],
   "source": [
    "result_stream7 = Blast.qblast(\"blastp\", \"nr\", \"CCD72204.1\" , hitlist_size=250 , expect=0.05 , entrez_query=\"Caenorhabditis elegans[Organism]\" , gapcosts=\"11 1\" , matrix_name=\"BLOSUM62\" , word_size=5 , format_type=\"JSON2\")"
   ]
  },
  {
   "cell_type": "code",
   "execution_count": 128,
   "id": "a66d35e1-224a-4533-922e-f12292789f88",
   "metadata": {},
   "outputs": [],
   "source": [
    "data = result_stream7.read()"
   ]
  },
  {
   "cell_type": "code",
   "execution_count": 129,
   "id": "bc71e2fa-230c-4494-83a6-bcb5c3715912",
   "metadata": {},
   "outputs": [
    {
     "data": {
      "text/plain": [
       "b'PK\\x03\\x04'"
      ]
     },
     "execution_count": 129,
     "metadata": {},
     "output_type": "execute_result"
    }
   ],
   "source": [
    "data[:4]"
   ]
  },
  {
   "cell_type": "code",
   "execution_count": 130,
   "id": "7de1bb55-b078-461d-9605-b315b869b96b",
   "metadata": {},
   "outputs": [],
   "source": [
    "with open(\"Ecad.zip\", \"wb\") as out_stream7:\n",
    "    out_stream7.write(data)"
   ]
  },
  {
   "cell_type": "code",
   "execution_count": 131,
   "id": "92bea20c-26f8-4b3b-83b1-6b4ca1f77f9b",
   "metadata": {},
   "outputs": [],
   "source": [
    "import zipfile"
   ]
  },
  {
   "cell_type": "code",
   "execution_count": 132,
   "id": "93bda0aa-ae7f-469c-8a0c-cc90a6b4cdfe",
   "metadata": {},
   "outputs": [],
   "source": [
    "myzipfile2 = zipfile.ZipFile(\"Ecad.zip\")"
   ]
  },
  {
   "cell_type": "code",
   "execution_count": 133,
   "id": "72e868a6-54eb-4372-b773-a24ce5bbc719",
   "metadata": {},
   "outputs": [],
   "source": [
    "result_stream8 = Blast.qblast(\"blastp\", \"nr\", \"CAA22311.1\" , hitlist_size=250 , expect=0.05 , entrez_query=\"Caenorhabditis elegans[Organism]\" , gapcosts=\"11 1\" , matrix_name=\"BLOSUM62\" , word_size=5 , format_type=\"JSON2\")"
   ]
  },
  {
   "cell_type": "code",
   "execution_count": 134,
   "id": "872f9247-b40c-424e-9d80-edf40b6aba38",
   "metadata": {},
   "outputs": [],
   "source": [
    "data = result_stream8.read()"
   ]
  },
  {
   "cell_type": "code",
   "execution_count": 135,
   "id": "a007005b-bfa0-4c7a-9569-8dacaef0ecff",
   "metadata": {},
   "outputs": [
    {
     "data": {
      "text/plain": [
       "b'PK\\x03\\x04'"
      ]
     },
     "execution_count": 135,
     "metadata": {},
     "output_type": "execute_result"
    }
   ],
   "source": [
    "data[:4]"
   ]
  },
  {
   "cell_type": "code",
   "execution_count": 136,
   "id": "e431c8ff-7d2c-45a0-8bdf-6b812c6dfe5b",
   "metadata": {},
   "outputs": [],
   "source": [
    "with open(\"GSK3.zip\", \"wb\") as out_stream8:\n",
    "    out_stream8.write(data)"
   ]
  },
  {
   "cell_type": "code",
   "execution_count": 137,
   "id": "6a8ce9ce-445e-438d-bf82-ca8401ce2acc",
   "metadata": {},
   "outputs": [],
   "source": [
    "import zipfile"
   ]
  },
  {
   "cell_type": "code",
   "execution_count": 138,
   "id": "e7b99038-be7a-452a-8f2f-80e26462173b",
   "metadata": {},
   "outputs": [],
   "source": [
    "myzipfile3 = zipfile.ZipFile(\"GSK3.zip\")"
   ]
  },
  {
   "cell_type": "code",
   "execution_count": 139,
   "id": "a5259ff9-b056-4824-be14-03a58fa03eda",
   "metadata": {},
   "outputs": [],
   "source": [
    "result_stream9 = Blast.qblast(\"blastp\", \"nr\", \"CAB45863.1\" , hitlist_size=250 , expect=0.05 , entrez_query=\"Caenorhabditis elegans[Organism]\" , gapcosts=\"11 1\" , matrix_name=\"BLOSUM62\" , word_size=5 , format_type=\"JSON2\")"
   ]
  },
  {
   "cell_type": "code",
   "execution_count": 140,
   "id": "56f343a3-c77d-4d99-97cc-72b352516f52",
   "metadata": {},
   "outputs": [],
   "source": [
    "data = result_stream9.read()"
   ]
  },
  {
   "cell_type": "code",
   "execution_count": 141,
   "id": "909dc5c4-425e-4940-9a52-da7a306b57a6",
   "metadata": {},
   "outputs": [
    {
     "data": {
      "text/plain": [
       "b'PK\\x03\\x04'"
      ]
     },
     "execution_count": 141,
     "metadata": {},
     "output_type": "execute_result"
    }
   ],
   "source": [
    "data[:4]"
   ]
  },
  {
   "cell_type": "code",
   "execution_count": 142,
   "id": "71c1a453-4478-42c2-9d42-48284c91415d",
   "metadata": {},
   "outputs": [],
   "source": [
    "with open(\"IP3.zip\", \"wb\") as out_stream9:\n",
    "    out_stream9.write(data)"
   ]
  },
  {
   "cell_type": "code",
   "execution_count": 143,
   "id": "d6a73909-ba22-43e8-9cfa-56e326d2da89",
   "metadata": {},
   "outputs": [],
   "source": [
    "import zipfile"
   ]
  },
  {
   "cell_type": "code",
   "execution_count": 144,
   "id": "7834082e-3004-4cee-9062-07952819e585",
   "metadata": {},
   "outputs": [],
   "source": [
    "myzipfile4 = zipfile.ZipFile(\"IP3.zip\")"
   ]
  },
  {
   "cell_type": "code",
   "execution_count": 145,
   "id": "227939c5-7bff-44ea-b603-d44e037422a3",
   "metadata": {},
   "outputs": [],
   "source": [
    "result_stream10 = Blast.qblast(\"blastp\", \"nr\", \"CCD61895.1\" , hitlist_size=250 , expect=0.05 , entrez_query=\"Caenorhabditis elegans[Organism]\" , gapcosts=\"11 1\" , matrix_name=\"BLOSUM62\" , word_size=5 , format_type=\"JSON2\")"
   ]
  },
  {
   "cell_type": "code",
   "execution_count": 146,
   "id": "275966d2-e788-4336-ae13-5f684e5b3f87",
   "metadata": {},
   "outputs": [],
   "source": [
    "data = result_stream10.read()"
   ]
  },
  {
   "cell_type": "code",
   "execution_count": 147,
   "id": "c529a364-cb81-4d07-8315-188c526a5af1",
   "metadata": {},
   "outputs": [
    {
     "data": {
      "text/plain": [
       "b'PK\\x03\\x04'"
      ]
     },
     "execution_count": 147,
     "metadata": {},
     "output_type": "execute_result"
    }
   ],
   "source": [
    "data[:4]"
   ]
  },
  {
   "cell_type": "code",
   "execution_count": 148,
   "id": "7e01cfe8-be04-40e5-8008-6bd0ecdf573a",
   "metadata": {},
   "outputs": [],
   "source": [
    "with open(\"MAPK.zip\", \"wb\") as out_stream10:\n",
    "    out_stream10.write(data)"
   ]
  },
  {
   "cell_type": "code",
   "execution_count": 149,
   "id": "cc4050fb-7309-49ec-8dc1-fbc3f28678d5",
   "metadata": {},
   "outputs": [],
   "source": [
    "import zipfile"
   ]
  },
  {
   "cell_type": "code",
   "execution_count": 150,
   "id": "d0ee9ff9-1c19-4560-9c75-17698e3f479a",
   "metadata": {},
   "outputs": [],
   "source": [
    "myzipfile5 = zipfile.ZipFile(\"MAPK.zip\")"
   ]
  },
  {
   "cell_type": "code",
   "execution_count": null,
   "id": "ceba5cb5-aca7-4018-b99f-f1da73b993c0",
   "metadata": {},
   "outputs": [],
   "source": [
    "NFAT does not have a NCBI ID. I will skip it for now"
   ]
  },
  {
   "cell_type": "code",
   "execution_count": null,
   "id": "1f4304e7-7050-41ed-8f52-2f11a89c7f85",
   "metadata": {},
   "outputs": [],
   "source": [
    "Let's do the BLAST search for PLC"
   ]
  },
  {
   "cell_type": "code",
   "execution_count": 151,
   "id": "6cf8a52c-0533-4aa6-92e6-17c51657e1ff",
   "metadata": {},
   "outputs": [],
   "source": [
    "result_stream11 = Blast.qblast(\"blastp\", \"nr\", \"VTW47462.1\" , hitlist_size=250 , expect=0.05 , entrez_query=\"Caenorhabditis elegans[Organism]\" , gapcosts=\"11 1\" , matrix_name=\"BLOSUM62\" , word_size=5 , format_type=\"JSON2\")"
   ]
  },
  {
   "cell_type": "code",
   "execution_count": 152,
   "id": "bbf1d19d-075d-4ede-a88c-0b53b6dbb80c",
   "metadata": {},
   "outputs": [],
   "source": [
    "data = result_stream11.read()"
   ]
  },
  {
   "cell_type": "code",
   "execution_count": 153,
   "id": "b028597f-268d-4bb1-a968-86b7641bd78c",
   "metadata": {},
   "outputs": [
    {
     "data": {
      "text/plain": [
       "b'PK\\x03\\x04'"
      ]
     },
     "execution_count": 153,
     "metadata": {},
     "output_type": "execute_result"
    }
   ],
   "source": [
    "data[:4]"
   ]
  },
  {
   "cell_type": "code",
   "execution_count": 154,
   "id": "9b968a48-ea32-4e90-a160-a43829cb3161",
   "metadata": {},
   "outputs": [],
   "source": [
    "with open(\"PLC.zip\", \"wb\") as out_stream11:\n",
    "    out_stream11.write(data)"
   ]
  },
  {
   "cell_type": "code",
   "execution_count": 155,
   "id": "67508a20-77c9-43b6-bbeb-ca303ccd02e3",
   "metadata": {},
   "outputs": [],
   "source": [
    "import zipfile"
   ]
  },
  {
   "cell_type": "code",
   "execution_count": 156,
   "id": "6d0a4416-306d-4264-ad3a-4549ceadb8cd",
   "metadata": {},
   "outputs": [],
   "source": [
    "myzipfile6 = zipfile.ZipFile(\"PLC.zip\")"
   ]
  },
  {
   "cell_type": "code",
   "execution_count": 157,
   "id": "c7ddb22d-8e66-459b-acca-ba0e0acbdd6a",
   "metadata": {},
   "outputs": [
    {
     "name": "stderr",
     "output_type": "stream",
     "text": [
      "/home/noob/.local/lib/python3.10/site-packages/Bio/Blast/__init__.py:1226: BiopythonWarning: BLAST request CYCDDAJ3013 is taking longer than 10 minutes, consider re-issuing it\n",
      "  warnings.warn(\n"
     ]
    }
   ],
   "source": [
    "result_stream12 = Blast.qblast(\"blastp\", \"nr\", \"VTW47465.1\" , hitlist_size=250 , expect=0.05 , entrez_query=\"Caenorhabditis elegans[Organism]\" , gapcosts=\"11 1\" , matrix_name=\"BLOSUM62\" , word_size=5 , format_type=\"JSON2\")"
   ]
  },
  {
   "cell_type": "code",
   "execution_count": 158,
   "id": "f7429be7-3066-4f72-83aa-225a9effb471",
   "metadata": {},
   "outputs": [],
   "source": [
    "data = result_stream12.read()"
   ]
  },
  {
   "cell_type": "code",
   "execution_count": 159,
   "id": "862466a7-21e1-4187-ab4a-2012967ba712",
   "metadata": {},
   "outputs": [
    {
     "data": {
      "text/plain": [
       "b'PK\\x03\\x04'"
      ]
     },
     "execution_count": 159,
     "metadata": {},
     "output_type": "execute_result"
    }
   ],
   "source": [
    "data[:4]"
   ]
  },
  {
   "cell_type": "code",
   "execution_count": 160,
   "id": "ec5da3a9-d928-451c-8ee0-d59067498b1d",
   "metadata": {},
   "outputs": [],
   "source": [
    "with open(\"PKC.zip\", \"wb\") as out_stream12:\n",
    "    out_stream12.write(data)"
   ]
  },
  {
   "cell_type": "code",
   "execution_count": 161,
   "id": "496504de-c0a1-4930-b317-6a925c47629e",
   "metadata": {},
   "outputs": [],
   "source": [
    "import zipfile"
   ]
  },
  {
   "cell_type": "code",
   "execution_count": 162,
   "id": "fcb56b7a-fd65-4601-8586-741b0a9e7ab1",
   "metadata": {},
   "outputs": [],
   "source": [
    "myzipfile7 = zipfile.ZipFile(\"PKC.zip\")"
   ]
  },
  {
   "cell_type": "code",
   "execution_count": 163,
   "id": "b172d476-d3bd-4d82-a7a2-68a754c4d162",
   "metadata": {},
   "outputs": [],
   "source": [
    "result_stream13 = Blast.qblast(\"blastp\", \"nr\", \"CAB04593.1\" , hitlist_size=250 , expect=0.05 , entrez_query=\"Caenorhabditis elegans[Organism]\" , gapcosts=\"11 1\" , matrix_name=\"BLOSUM62\" , word_size=5 , format_type=\"JSON2\")"
   ]
  },
  {
   "cell_type": "code",
   "execution_count": 164,
   "id": "624bcb2c-086a-4b04-a573-33e4b54f5447",
   "metadata": {},
   "outputs": [],
   "source": [
    "data = result_stream13.read()"
   ]
  },
  {
   "cell_type": "code",
   "execution_count": 165,
   "id": "d731d35d-e659-4229-b32f-379c576ef767",
   "metadata": {},
   "outputs": [
    {
     "data": {
      "text/plain": [
       "b'PK\\x03\\x04'"
      ]
     },
     "execution_count": 165,
     "metadata": {},
     "output_type": "execute_result"
    }
   ],
   "source": [
    "data[:4]"
   ]
  },
  {
   "cell_type": "code",
   "execution_count": 166,
   "id": "eb21b391-78cc-41a7-a2d8-99d035a1ac60",
   "metadata": {},
   "outputs": [],
   "source": [
    "with open(\"Rac.zip\", \"wb\") as out_stream13:\n",
    "    out_stream13.write(data)"
   ]
  },
  {
   "cell_type": "code",
   "execution_count": 167,
   "id": "d5ae5f2b-6e1e-4d2c-bccf-30398518a5d7",
   "metadata": {},
   "outputs": [],
   "source": [
    "import zipfile"
   ]
  },
  {
   "cell_type": "code",
   "execution_count": 168,
   "id": "539b974b-3449-4616-b0e4-87df611b0b57",
   "metadata": {},
   "outputs": [],
   "source": [
    "myzipfile8 = zipfile.ZipFile(\"Rac.zip\")"
   ]
  },
  {
   "cell_type": "code",
   "execution_count": 169,
   "id": "25b501df-5c85-43df-96d9-8cffa7145f48",
   "metadata": {},
   "outputs": [],
   "source": [
    "result_stream14 = Blast.qblast(\"blastp\", \"nr\", \"CCD69972.1\" , hitlist_size=250 , expect=0.05 , entrez_query=\"Caenorhabditis elegans[Organism]\" , gapcosts=\"11 1\" , matrix_name=\"BLOSUM62\" , word_size=5 , format_type=\"JSON2\")"
   ]
  },
  {
   "cell_type": "code",
   "execution_count": 170,
   "id": "823b70a6-1ec6-4ec2-95f7-710d03ddd8b5",
   "metadata": {},
   "outputs": [],
   "source": [
    "data = result_stream14.read()"
   ]
  },
  {
   "cell_type": "code",
   "execution_count": 171,
   "id": "b9babd38-9e89-4cf4-a870-ea018a522d59",
   "metadata": {},
   "outputs": [
    {
     "data": {
      "text/plain": [
       "b'PK\\x03\\x04'"
      ]
     },
     "execution_count": 171,
     "metadata": {},
     "output_type": "execute_result"
    }
   ],
   "source": [
    "data[:4]"
   ]
  },
  {
   "cell_type": "code",
   "execution_count": 172,
   "id": "9fdafb6c-8a58-43a8-9b23-8553967930d8",
   "metadata": {},
   "outputs": [],
   "source": [
    "with open(\"Rho.zip\", \"wb\") as out_stream14:\n",
    "    out_stream14.write(data)"
   ]
  },
  {
   "cell_type": "code",
   "execution_count": 173,
   "id": "ce6cadb3-909c-41de-baa7-537d059edb30",
   "metadata": {},
   "outputs": [],
   "source": [
    "import zipfile"
   ]
  },
  {
   "cell_type": "code",
   "execution_count": 174,
   "id": "18fb4589-72b6-4ebd-8c5c-6ac35a1720e1",
   "metadata": {},
   "outputs": [],
   "source": [
    "myzipfile9 = zipfile.ZipFile(\"Rho.zip\")"
   ]
  },
  {
   "cell_type": "code",
   "execution_count": 175,
   "id": "051969b5-b680-4f87-977b-a49da07ae42a",
   "metadata": {},
   "outputs": [],
   "source": [
    "result_stream15 = Blast.qblast(\"blastp\", \"nr\", \"P92199.1\" , hitlist_size=250 , expect=0.05 , entrez_query=\"Caenorhabditis elegans[Organism]\" , gapcosts=\"11 1\" , matrix_name=\"BLOSUM62\" , word_size=5 , format_type=\"JSON2\")"
   ]
  },
  {
   "cell_type": "code",
   "execution_count": 176,
   "id": "928de4d0-43e0-41e2-9b04-02bfca73e795",
   "metadata": {},
   "outputs": [],
   "source": [
    "data = result_stream15.read()"
   ]
  },
  {
   "cell_type": "code",
   "execution_count": 177,
   "id": "fdc25e67-81b4-41f7-8d7e-3fa16e5549b9",
   "metadata": {},
   "outputs": [
    {
     "data": {
      "text/plain": [
       "b'PK\\x03\\x04'"
      ]
     },
     "execution_count": 177,
     "metadata": {},
     "output_type": "execute_result"
    }
   ],
   "source": [
    "data[:4]"
   ]
  },
  {
   "cell_type": "code",
   "execution_count": 178,
   "id": "e3479716-e7e4-40ba-9a5b-8aed3936e532",
   "metadata": {},
   "outputs": [],
   "source": [
    "with open(\"ROCK.zip\", \"wb\") as out_stream15:\n",
    "    out_stream15.write(data)"
   ]
  },
  {
   "cell_type": "code",
   "execution_count": 179,
   "id": "21410264-b9bc-4719-afa5-0771a279af1f",
   "metadata": {},
   "outputs": [],
   "source": [
    "import zipfile"
   ]
  },
  {
   "cell_type": "code",
   "execution_count": 180,
   "id": "865fb2d4-2564-4e52-965c-59b95bfebd27",
   "metadata": {},
   "outputs": [],
   "source": [
    "myzipfile10 = zipfile.ZipFile(\"ROCK.zip\")"
   ]
  },
  {
   "cell_type": "code",
   "execution_count": 181,
   "id": "e93ba1c7-a7d4-4512-8136-85207c892192",
   "metadata": {},
   "outputs": [],
   "source": [
    "result_stream16 = Blast.qblast(\"blastp\", \"nr\", \"ABA18181.1\" , hitlist_size=250 , expect=0.05 , entrez_query=\"Caenorhabditis elegans[Organism]\" , gapcosts=\"11 1\" , matrix_name=\"BLOSUM62\" , word_size=5 , format_type=\"JSON2\")"
   ]
  },
  {
   "cell_type": "code",
   "execution_count": 182,
   "id": "03028bde-90ec-4e63-bc3b-baee08839476",
   "metadata": {},
   "outputs": [],
   "source": [
    "data = result_stream16.read()"
   ]
  },
  {
   "cell_type": "code",
   "execution_count": 183,
   "id": "4b3e069c-91c4-4203-aa46-a1ed91433835",
   "metadata": {},
   "outputs": [
    {
     "data": {
      "text/plain": [
       "b'PK\\x03\\x04'"
      ]
     },
     "execution_count": 183,
     "metadata": {},
     "output_type": "execute_result"
    }
   ],
   "source": [
    "data[:4]"
   ]
  },
  {
   "cell_type": "code",
   "execution_count": 184,
   "id": "5d67cf3d-2327-4c04-a109-3d6242642a8f",
   "metadata": {},
   "outputs": [],
   "source": [
    "with open(\"FzR.zip\", \"wb\") as out_stream16:\n",
    "    out_stream16.write(data)"
   ]
  },
  {
   "cell_type": "code",
   "execution_count": 185,
   "id": "48c7e5a6-7034-46d3-9c24-0f246efea693",
   "metadata": {},
   "outputs": [],
   "source": [
    "import zipfile"
   ]
  },
  {
   "cell_type": "code",
   "execution_count": 186,
   "id": "41c14127-6a86-4517-b600-7d3b76dc3afe",
   "metadata": {},
   "outputs": [],
   "source": [
    "myzipfile11 = zipfile.ZipFile(\"FzR.zip\")"
   ]
  },
  {
   "cell_type": "code",
   "execution_count": 187,
   "id": "3cc073f4-24b6-4a9c-94f2-b373acc7464b",
   "metadata": {},
   "outputs": [],
   "source": [
    "result_stream17 = Blast.qblast(\"blastp\", \"nr\", \"AAA64847.1\" , hitlist_size=250 , expect=0.05 , entrez_query=\"Caenorhabditis elegans[Organism]\" , gapcosts=\"11 1\" , matrix_name=\"BLOSUM62\" , word_size=5 , format_type=\"JSON2\")"
   ]
  },
  {
   "cell_type": "code",
   "execution_count": 188,
   "id": "4c1682c4-609c-4e32-88aa-181f66ee0b9f",
   "metadata": {},
   "outputs": [],
   "source": [
    "data = result_stream17.read()"
   ]
  },
  {
   "cell_type": "code",
   "execution_count": 189,
   "id": "6b529fff-d9f8-42cd-89d4-93bc6d5716e2",
   "metadata": {},
   "outputs": [
    {
     "data": {
      "text/plain": [
       "b'PK\\x03\\x04'"
      ]
     },
     "execution_count": 189,
     "metadata": {},
     "output_type": "execute_result"
    }
   ],
   "source": [
    "data[:4]"
   ]
  },
  {
   "cell_type": "code",
   "execution_count": 190,
   "id": "67f0aa4d-c30a-4446-8b0a-984d0702e1b9",
   "metadata": {},
   "outputs": [],
   "source": [
    "with open(\"Wnt.zip\", \"wb\") as out_stream17:\n",
    "    out_stream17.write(data)"
   ]
  },
  {
   "cell_type": "code",
   "execution_count": 191,
   "id": "75965604-6881-4937-b5fc-cf4e5d4b3e54",
   "metadata": {},
   "outputs": [],
   "source": [
    "import zipfile"
   ]
  },
  {
   "cell_type": "code",
   "execution_count": 192,
   "id": "cb2b214f-956c-4a54-be74-ef40992b2c47",
   "metadata": {},
   "outputs": [],
   "source": [
    "myzipfile12 = zipfile.ZipFile(\"Wnt.zip\")"
   ]
  },
  {
   "cell_type": "code",
   "execution_count": null,
   "id": "33ad2836-b608-42f7-be82-bae2e6133625",
   "metadata": {},
   "outputs": [],
   "source": [
    "I found a NCBI Accession for MELK in C.elegans, however, its worth noting that the Bradley et al paper did not include it for some reason"
   ]
  },
  {
   "cell_type": "code",
   "execution_count": 193,
   "id": "bed303d8-a79a-4862-b5fc-52006450bc42",
   "metadata": {},
   "outputs": [],
   "source": [
    "result_stream18 = Blast.qblast(\"blastp\", \"nr\", \"NP_001023420.2\" , hitlist_size=250 , expect=0.05 , entrez_query=\"Caenorhabditis elegans[Organism]\" , gapcosts=\"11 1\" , matrix_name=\"BLOSUM62\" , word_size=5 , format_type=\"JSON2\")"
   ]
  },
  {
   "cell_type": "code",
   "execution_count": 194,
   "id": "636e3039-9bd3-4e0d-bc6d-55787f7788ad",
   "metadata": {},
   "outputs": [],
   "source": [
    "data = result_stream18.read()"
   ]
  },
  {
   "cell_type": "code",
   "execution_count": 195,
   "id": "10c3e922-9560-4851-aa31-473fc5e8af77",
   "metadata": {},
   "outputs": [
    {
     "data": {
      "text/plain": [
       "b'PK\\x03\\x04'"
      ]
     },
     "execution_count": 195,
     "metadata": {},
     "output_type": "execute_result"
    }
   ],
   "source": [
    "data[:4]"
   ]
  },
  {
   "cell_type": "code",
   "execution_count": 196,
   "id": "82f12891-672b-4b3a-81a2-0be1df177a43",
   "metadata": {},
   "outputs": [],
   "source": [
    "with open(\"MELK.zip\", \"wb\") as out_stream18:\n",
    "    out_stream18.write(data)"
   ]
  },
  {
   "cell_type": "code",
   "execution_count": 197,
   "id": "25f47a41-f411-4a5d-b114-2adf2eb6df33",
   "metadata": {},
   "outputs": [],
   "source": [
    "import zipfile"
   ]
  },
  {
   "cell_type": "code",
   "execution_count": 198,
   "id": "83b3e1d9-5e8c-4e31-8541-436fe539f099",
   "metadata": {},
   "outputs": [],
   "source": [
    "myzipfile13 = zipfile.ZipFile(\"MELK.zip\")"
   ]
  },
  {
   "cell_type": "code",
   "execution_count": null,
   "id": "466b9dba-a7be-41f0-a641-dcb1e581db05",
   "metadata": {},
   "outputs": [],
   "source": [
    "There are 6 more proteins that have a role in C.elegans developement, therefor, We are gonna include these proteins as well. "
   ]
  },
  {
   "cell_type": "code",
   "execution_count": null,
   "id": "028a9c0a-4503-43d6-b2e2-b942026ac0a1",
   "metadata": {},
   "outputs": [],
   "source": [
    "These proteins are named: CDK-1 , CDK-2 , CDK-4 , cyclin D, cyclin E , CKI-1 , Cdc14, and LIN-28"
   ]
  },
  {
   "cell_type": "code",
   "execution_count": 7,
   "id": "353fb6ac-bfd9-4aad-b384-8cb3f2421b27",
   "metadata": {},
   "outputs": [],
   "source": [
    "result_stream19 = Blast.qblast(\"blastp\", \"nr\", \"NP_001022747.1\" , hitlist_size=250 , expect=0.05 , entrez_query=\"Caenorhabditis elegans[Organism]\" , gapcosts=\"11 1\" , matrix_name=\"BLOSUM62\" , word_size=5 , format_type=\"JSON2\")"
   ]
  },
  {
   "cell_type": "code",
   "execution_count": 8,
   "id": "eaf6a401-eaa3-44ed-931f-93a949b84c31",
   "metadata": {},
   "outputs": [],
   "source": [
    "data = result_stream19.read()"
   ]
  },
  {
   "cell_type": "code",
   "execution_count": 9,
   "id": "ab3e4c12-0110-4b11-9fa6-07ac6a1cf48f",
   "metadata": {},
   "outputs": [
    {
     "data": {
      "text/plain": [
       "b'PK\\x03\\x04'"
      ]
     },
     "execution_count": 9,
     "metadata": {},
     "output_type": "execute_result"
    }
   ],
   "source": [
    "data[:4]"
   ]
  },
  {
   "cell_type": "code",
   "execution_count": 10,
   "id": "a9726c4c-7360-41f7-a232-4b86c951ded4",
   "metadata": {},
   "outputs": [],
   "source": [
    "with open(\"CDK-1.zip\", \"wb\") as out_stream19:\n",
    "    out_stream19.write(data)"
   ]
  },
  {
   "cell_type": "code",
   "execution_count": 11,
   "id": "7929f08b-6e0e-4a02-9623-dde689e36a64",
   "metadata": {},
   "outputs": [],
   "source": [
    "import zipfile"
   ]
  },
  {
   "cell_type": "code",
   "execution_count": 12,
   "id": "6d709a41-402b-4ebb-bb80-be394d9dc5da",
   "metadata": {},
   "outputs": [],
   "source": [
    "myzipfile14 = zipfile.ZipFile(\"CDK-1.zip\")"
   ]
  },
  {
   "cell_type": "code",
   "execution_count": 13,
   "id": "7097c412-9348-4802-a10a-654261b6b709",
   "metadata": {},
   "outputs": [],
   "source": [
    "result_stream20 = Blast.qblast(\"blastp\", \"nr\", \"O61847.2\" , hitlist_size=250 , expect=0.05 , entrez_query=\"Caenorhabditis elegans[Organism]\" , gapcosts=\"11 1\" , matrix_name=\"BLOSUM62\" , word_size=5 , format_type=\"JSON2\")"
   ]
  },
  {
   "cell_type": "code",
   "execution_count": 14,
   "id": "4e6b915b-6e37-44c6-9abe-da8773601d80",
   "metadata": {},
   "outputs": [],
   "source": [
    "data = result_stream20.read()"
   ]
  },
  {
   "cell_type": "code",
   "execution_count": 15,
   "id": "bc4ecf8e-986d-4db3-9d87-9be0f01f364d",
   "metadata": {},
   "outputs": [
    {
     "data": {
      "text/plain": [
       "b'PK\\x03\\x04'"
      ]
     },
     "execution_count": 15,
     "metadata": {},
     "output_type": "execute_result"
    }
   ],
   "source": [
    "data[:4]"
   ]
  },
  {
   "cell_type": "code",
   "execution_count": 16,
   "id": "e174317a-5b9c-4599-b572-a44337df59e4",
   "metadata": {},
   "outputs": [],
   "source": [
    "with open(\"CDK-2.zip\", \"wb\") as out_stream20:\n",
    "    out_stream20.write(data)"
   ]
  },
  {
   "cell_type": "code",
   "execution_count": 17,
   "id": "9447718d-f479-4dd1-ab41-c5455cb3520f",
   "metadata": {},
   "outputs": [],
   "source": [
    "import zipfile"
   ]
  },
  {
   "cell_type": "code",
   "execution_count": 18,
   "id": "e0e71579-a9dc-42ed-9276-2f0825c34bfd",
   "metadata": {},
   "outputs": [],
   "source": [
    "myzipfile15 = zipfile.ZipFile(\"CDK-2.zip\")"
   ]
  },
  {
   "cell_type": "code",
   "execution_count": 50,
   "id": "0f3b285a-85e6-4cb6-ba34-2f422c96dd5c",
   "metadata": {},
   "outputs": [],
   "source": [
    "result_stream21 = Blast.qblast(\"blastp\", \"nr\", \"AAD48898.1\" , hitlist_size=250 , expect=0.05 , entrez_query=\"Caenorhabditis elegans[Organism]\" , gapcosts=\"11 1\" , matrix_name=\"BLOSUM62\" , word_size=5 , format_type=\"JSON2\")"
   ]
  },
  {
   "cell_type": "code",
   "execution_count": 51,
   "id": "43d7763f-8726-42ec-9a64-51172c4ff6bc",
   "metadata": {},
   "outputs": [],
   "source": [
    "data = result_stream21.read()"
   ]
  },
  {
   "cell_type": "code",
   "execution_count": 52,
   "id": "c551e0b5-4da7-4fb5-a545-00d3bd99a205",
   "metadata": {},
   "outputs": [
    {
     "data": {
      "text/plain": [
       "b'PK\\x03\\x04'"
      ]
     },
     "execution_count": 52,
     "metadata": {},
     "output_type": "execute_result"
    }
   ],
   "source": [
    "data[:4]"
   ]
  },
  {
   "cell_type": "code",
   "execution_count": 53,
   "id": "ae6b95dc-3001-4d33-8358-41977c5560ab",
   "metadata": {},
   "outputs": [],
   "source": [
    "with open(\"CDK-4.zip\", \"wb\") as out_stream21:\n",
    "    out_stream21.write(data)"
   ]
  },
  {
   "cell_type": "code",
   "execution_count": 54,
   "id": "39e7df46-c4b3-4f15-b4e8-7b6bdd0310a2",
   "metadata": {},
   "outputs": [],
   "source": [
    "import zipfile"
   ]
  },
  {
   "cell_type": "code",
   "execution_count": 55,
   "id": "b402e3b1-0a73-4374-a2fb-b88495b5ec37",
   "metadata": {},
   "outputs": [],
   "source": [
    "myzipfile16 = zipfile.ZipFile(\"CDK-4.zip\")"
   ]
  },
  {
   "cell_type": "code",
   "execution_count": 20,
   "id": "a51d5bdd-3edf-4538-ab55-477ea102f757",
   "metadata": {},
   "outputs": [],
   "source": [
    "result_stream22 = Blast.qblast(\"blastp\", \"nr\", \"AAC35273.1\" , hitlist_size=250 , expect=0.05 , entrez_query=\"Caenorhabditis elegans[Organism]\" , gapcosts=\"11 1\" , matrix_name=\"BLOSUM62\" , word_size=5 , format_type=\"JSON2\")"
   ]
  },
  {
   "cell_type": "code",
   "execution_count": 21,
   "id": "803cda46-5c3f-4d15-b2b3-33f5626ec160",
   "metadata": {},
   "outputs": [],
   "source": [
    "data = result_stream22.read()"
   ]
  },
  {
   "cell_type": "code",
   "execution_count": 22,
   "id": "83a1f0e0-93d6-4bcb-b137-6cfcc230fa5b",
   "metadata": {},
   "outputs": [
    {
     "data": {
      "text/plain": [
       "b'PK\\x03\\x04'"
      ]
     },
     "execution_count": 22,
     "metadata": {},
     "output_type": "execute_result"
    }
   ],
   "source": [
    "data[:4]"
   ]
  },
  {
   "cell_type": "code",
   "execution_count": 23,
   "id": "d67602f9-522d-4f52-87b2-e8454cb4f0a8",
   "metadata": {},
   "outputs": [],
   "source": [
    "with open(\"cyclinD.zip\", \"wb\") as out_stream22:\n",
    "    out_stream22.write(data)"
   ]
  },
  {
   "cell_type": "code",
   "execution_count": 24,
   "id": "45445cf1-50c0-457c-af72-d76028a034d0",
   "metadata": {},
   "outputs": [],
   "source": [
    "import zipfile"
   ]
  },
  {
   "cell_type": "code",
   "execution_count": 25,
   "id": "2c80f020-e836-4c9d-9d48-b14fa9a6a7c1",
   "metadata": {},
   "outputs": [],
   "source": [
    "myzipfile17 = zipfile.ZipFile(\"cyclinD.zip\")"
   ]
  },
  {
   "cell_type": "code",
   "execution_count": 26,
   "id": "b2535f5f-3521-4f02-9272-72b2a82e0575",
   "metadata": {},
   "outputs": [
    {
     "name": "stderr",
     "output_type": "stream",
     "text": [
      "/home/noob/.local/lib/python3.10/site-packages/Bio/Blast/__init__.py:1226: BiopythonWarning: BLAST request CYPYJJ7E013 is taking longer than 10 minutes, consider re-issuing it\n",
      "  warnings.warn(\n"
     ]
    }
   ],
   "source": [
    "result_stream23 = Blast.qblast(\"blastp\", \"nr\", \"AAM78547.1\" , hitlist_size=250 , expect=0.05 , entrez_query=\"Caenorhabditis elegans[Organism]\" , gapcosts=\"11 1\" , matrix_name=\"BLOSUM62\" , word_size=5 , format_type=\"JSON2\")"
   ]
  },
  {
   "cell_type": "code",
   "execution_count": 27,
   "id": "9a239c2f-944d-4385-b078-dcf03e766614",
   "metadata": {},
   "outputs": [],
   "source": [
    "data = result_stream23.read()"
   ]
  },
  {
   "cell_type": "code",
   "execution_count": 28,
   "id": "433a04b4-6803-492e-b994-24d790c2dce7",
   "metadata": {},
   "outputs": [
    {
     "data": {
      "text/plain": [
       "b'PK\\x03\\x04'"
      ]
     },
     "execution_count": 28,
     "metadata": {},
     "output_type": "execute_result"
    }
   ],
   "source": [
    "data[:4]"
   ]
  },
  {
   "cell_type": "code",
   "execution_count": 29,
   "id": "e74a870b-dc0f-448d-85e0-722ad51e0745",
   "metadata": {},
   "outputs": [],
   "source": [
    "with open(\"cyclinE.zip\", \"wb\") as out_stream23:\n",
    "    out_stream23.write(data)"
   ]
  },
  {
   "cell_type": "code",
   "execution_count": 30,
   "id": "488dfa1e-bcac-4e6a-b1f3-2104983e8518",
   "metadata": {},
   "outputs": [],
   "source": [
    "import zipfile"
   ]
  },
  {
   "cell_type": "code",
   "execution_count": 31,
   "id": "fc967092-03c8-4bb6-a86f-d034d881d9a1",
   "metadata": {},
   "outputs": [],
   "source": [
    "myzipfile18 = zipfile.ZipFile(\"cyclinE.zip\")"
   ]
  },
  {
   "cell_type": "code",
   "execution_count": 32,
   "id": "fd0ddc2a-8af7-4b6e-8ba4-e90ae6543fb7",
   "metadata": {},
   "outputs": [],
   "source": [
    "result_stream24 = Blast.qblast(\"blastp\", \"nr\", \"NP_495641.1\" , hitlist_size=250 , expect=0.05 , entrez_query=\"Caenorhabditis elegans[Organism]\" , gapcosts=\"11 1\" , matrix_name=\"BLOSUM62\" , word_size=5 , format_type=\"JSON2\")"
   ]
  },
  {
   "cell_type": "code",
   "execution_count": 33,
   "id": "99367f1e-bb21-4ea6-9cff-932371f0ba4c",
   "metadata": {},
   "outputs": [],
   "source": [
    "data = result_stream24.read()"
   ]
  },
  {
   "cell_type": "code",
   "execution_count": 34,
   "id": "8290b1c4-35a7-4f45-9043-4eca60ae0a95",
   "metadata": {},
   "outputs": [
    {
     "data": {
      "text/plain": [
       "b'PK\\x03\\x04'"
      ]
     },
     "execution_count": 34,
     "metadata": {},
     "output_type": "execute_result"
    }
   ],
   "source": [
    "data[:4]"
   ]
  },
  {
   "cell_type": "code",
   "execution_count": 35,
   "id": "ef1f4803-49b2-480a-be63-0335c1deb9ff",
   "metadata": {},
   "outputs": [],
   "source": [
    "with open(\"CKI-1.zip\", \"wb\") as out_stream24:\n",
    "    out_stream24.write(data)"
   ]
  },
  {
   "cell_type": "code",
   "execution_count": 36,
   "id": "3c0e0755-4ae1-458c-9dca-dcc59ddf176f",
   "metadata": {},
   "outputs": [],
   "source": [
    "import zipfile"
   ]
  },
  {
   "cell_type": "code",
   "execution_count": 37,
   "id": "96ac3169-db69-4c25-839c-867f4e4551a3",
   "metadata": {},
   "outputs": [],
   "source": [
    "myzipfile19 = zipfile.ZipFile(\"CKI-1.zip\")"
   ]
  },
  {
   "cell_type": "code",
   "execution_count": 38,
   "id": "a5a267c4-1bba-4cf7-89a9-21a6cb0e312d",
   "metadata": {},
   "outputs": [],
   "source": [
    "result_stream25 = Blast.qblast(\"blastp\", \"nr\", \"NP_001021969.1\" , hitlist_size=250 , expect=0.05 , entrez_query=\"Caenorhabditis elegans[Organism]\" , gapcosts=\"11 1\" , matrix_name=\"BLOSUM62\" , word_size=5 , format_type=\"JSON2\")"
   ]
  },
  {
   "cell_type": "code",
   "execution_count": 39,
   "id": "df8c4359-aa0a-4641-a84e-e0d3260a96e1",
   "metadata": {},
   "outputs": [],
   "source": [
    "data = result_stream25.read()"
   ]
  },
  {
   "cell_type": "code",
   "execution_count": 40,
   "id": "0c9b52e1-97cf-47c7-834e-78d07007d8b7",
   "metadata": {},
   "outputs": [
    {
     "data": {
      "text/plain": [
       "b'PK\\x03\\x04'"
      ]
     },
     "execution_count": 40,
     "metadata": {},
     "output_type": "execute_result"
    }
   ],
   "source": [
    "data[:4]"
   ]
  },
  {
   "cell_type": "code",
   "execution_count": 41,
   "id": "1bd4fa44-4597-4952-a63e-c1649582c9ed",
   "metadata": {},
   "outputs": [],
   "source": [
    "with open(\"Cdc-14.zip\", \"wb\") as out_stream25:\n",
    "    out_stream25.write(data)"
   ]
  },
  {
   "cell_type": "code",
   "execution_count": 42,
   "id": "8699f6cd-b5c3-4f5d-808f-ddefe8a2be0c",
   "metadata": {},
   "outputs": [],
   "source": [
    "import zipfile"
   ]
  },
  {
   "cell_type": "code",
   "execution_count": 43,
   "id": "5da181b8-f1e2-4bc7-9e80-a4e25b52fac3",
   "metadata": {},
   "outputs": [],
   "source": [
    "myzipfile20 = zipfile.ZipFile(\"Cdc-14.zip\")"
   ]
  },
  {
   "cell_type": "code",
   "execution_count": 44,
   "id": "7f7f2963-bd3f-41e2-b1a6-22467ae9bb81",
   "metadata": {},
   "outputs": [],
   "source": [
    "result_stream26 = Blast.qblast(\"blastp\", \"nr\", \"AAC47476.1\" , hitlist_size=250 , expect=0.05 , entrez_query=\"Caenorhabditis elegans[Organism]\" , gapcosts=\"11 1\" , matrix_name=\"BLOSUM62\" , word_size=5 , format_type=\"JSON2\")"
   ]
  },
  {
   "cell_type": "code",
   "execution_count": 45,
   "id": "4dafdfe7-5f52-48da-8124-96a88c282c73",
   "metadata": {},
   "outputs": [],
   "source": [
    "data = result_stream26.read()"
   ]
  },
  {
   "cell_type": "code",
   "execution_count": 46,
   "id": "7525b326-69b2-48a1-ab9f-5d67eff2d63b",
   "metadata": {},
   "outputs": [
    {
     "data": {
      "text/plain": [
       "b'PK\\x03\\x04'"
      ]
     },
     "execution_count": 46,
     "metadata": {},
     "output_type": "execute_result"
    }
   ],
   "source": [
    "data[:4]"
   ]
  },
  {
   "cell_type": "code",
   "execution_count": 47,
   "id": "d86ca7de-753f-4282-b3c6-53fdd085ad14",
   "metadata": {},
   "outputs": [],
   "source": [
    "with open(\"Lin-28.zip\", \"wb\") as out_stream26:\n",
    "    out_stream26.write(data)"
   ]
  },
  {
   "cell_type": "code",
   "execution_count": 48,
   "id": "d7ac06db-0c3e-4775-a604-372606c6e890",
   "metadata": {},
   "outputs": [],
   "source": [
    "import zipfile"
   ]
  },
  {
   "cell_type": "code",
   "execution_count": 49,
   "id": "36610f31-334c-4a47-acd5-6a75b87bacb2",
   "metadata": {},
   "outputs": [],
   "source": [
    "myzipfile21 = zipfile.ZipFile(\"Lin-28.zip\")"
   ]
  },
  {
   "cell_type": "code",
   "execution_count": null,
   "id": "5405a9f0-ff58-42e9-8393-2bd32543fa0b",
   "metadata": {},
   "outputs": [],
   "source": []
  }
 ],
 "metadata": {
  "kernelspec": {
   "display_name": "Python 3 (ipykernel)",
   "language": "python",
   "name": "python3"
  },
  "language_info": {
   "codemirror_mode": {
    "name": "ipython",
    "version": 3
   },
   "file_extension": ".py",
   "mimetype": "text/x-python",
   "name": "python",
   "nbconvert_exporter": "python",
   "pygments_lexer": "ipython3",
   "version": "3.10.12"
  }
 },
 "nbformat": 4,
 "nbformat_minor": 5
}
